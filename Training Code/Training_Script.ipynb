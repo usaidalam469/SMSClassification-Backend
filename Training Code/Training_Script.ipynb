{
  "cells": [
    {
      "cell_type": "code",
      "execution_count": null,
      "id": "aaafd134",
      "metadata": {
        "colab": {
          "base_uri": "https://localhost:8080/"
        },
        "id": "aaafd134",
        "outputId": "c6197b25-7384-4c33-c601-e204ef664537"
      },
      "outputs": [
        {
          "output_type": "stream",
          "name": "stderr",
          "text": [
            "[nltk_data] Downloading package punkt to /root/nltk_data...\n",
            "[nltk_data]   Package punkt is already up-to-date!\n",
            "[nltk_data] Downloading package wordnet to /root/nltk_data...\n",
            "[nltk_data]   Package wordnet is already up-to-date!\n"
          ]
        }
      ],
      "source": [
        "import warnings\n",
        "warnings.filterwarnings('ignore')\n",
        "import numpy as np\n",
        "import pandas as pd\n",
        "import matplotlib.pyplot as plt\n",
        "import seaborn as sns\n",
        "import re\n",
        "from nltk.corpus import stopwords\n",
        "import nltk\n",
        "nltk.download('punkt')\n",
        "nltk.download('wordnet')\n",
        "nltk.download('stopwords')\n",
        "from nltk.stem import WordNetLemmatizer\n",
        "from nltk.tokenize import word_tokenize\n",
        "from sklearn.linear_model import LogisticRegression\n",
        "from sklearn.feature_extraction.text import TfidfVectorizer\n",
        "from sklearn.model_selection import train_test_split,GridSearchCV, StratifiedKFold\n",
        "from sklearn.metrics import f1_score, confusion_matrix,accuracy_score,recall_score,precision_score\n",
        "from sklearn.naive_bayes import MultinomialNB\n",
        "from sklearn.ensemble import RandomForestClassifier\n",
        "from sklearn.pipeline import Pipeline\n",
        "from sklearn.model_selection import GridSearchCV,StratifiedKFold\n",
        "from imblearn.over_sampling import SMOTE"
      ]
    },
    {
      "cell_type": "code",
      "source": [
        "!pip install joblib"
      ],
      "metadata": {
        "id": "lVGQpoqyM3qk"
      },
      "id": "lVGQpoqyM3qk",
      "execution_count": null,
      "outputs": []
    },
    {
      "cell_type": "code",
      "source": [
        "# Mount Google Drive\n",
        "from google.colab import drive\n",
        "drive.mount('/content/gdrive', force_remount=True)\n",
        "drive_path = \"/content/gdrive/MyDrive/AndElementTask\""
      ],
      "metadata": {
        "colab": {
          "base_uri": "https://localhost:8080/"
        },
        "id": "MC7jek4tzkYD",
        "outputId": "36a2c5a0-3680-48b7-e87b-3cb3193293b8"
      },
      "id": "MC7jek4tzkYD",
      "execution_count": null,
      "outputs": [
        {
          "output_type": "stream",
          "name": "stdout",
          "text": [
            "Mounted at /content/gdrive\n"
          ]
        }
      ]
    },
    {
      "cell_type": "markdown",
      "source": [
        "Loading Dataset"
      ],
      "metadata": {
        "id": "gVzJmr8r7Cva"
      },
      "id": "gVzJmr8r7Cva"
    },
    {
      "cell_type": "code",
      "execution_count": null,
      "id": "38ef2790",
      "metadata": {
        "colab": {
          "base_uri": "https://localhost:8080/",
          "height": 206
        },
        "id": "38ef2790",
        "outputId": "fff2f535-b420-4b4a-fc9b-7e6bfc1bde47"
      },
      "outputs": [
        {
          "output_type": "execute_result",
          "data": {
            "text/plain": [
              "     v1                                                 v2 Unnamed: 2  \\\n",
              "0   ham  Go until jurong point, crazy.. Available only ...        NaN   \n",
              "1   ham                      Ok lar... Joking wif u oni...        NaN   \n",
              "2  spam  Free entry in 2 a wkly comp to win FA Cup fina...        NaN   \n",
              "3   ham  U dun say so early hor... U c already then say...        NaN   \n",
              "4   ham  Nah I don't think he goes to usf, he lives aro...        NaN   \n",
              "\n",
              "  Unnamed: 3 Unnamed: 4  \n",
              "0        NaN        NaN  \n",
              "1        NaN        NaN  \n",
              "2        NaN        NaN  \n",
              "3        NaN        NaN  \n",
              "4        NaN        NaN  "
            ],
            "text/html": [
              "\n",
              "  <div id=\"df-151026e3-519e-4b78-97ce-0bab41a7aba0\" class=\"colab-df-container\">\n",
              "    <div>\n",
              "<style scoped>\n",
              "    .dataframe tbody tr th:only-of-type {\n",
              "        vertical-align: middle;\n",
              "    }\n",
              "\n",
              "    .dataframe tbody tr th {\n",
              "        vertical-align: top;\n",
              "    }\n",
              "\n",
              "    .dataframe thead th {\n",
              "        text-align: right;\n",
              "    }\n",
              "</style>\n",
              "<table border=\"1\" class=\"dataframe\">\n",
              "  <thead>\n",
              "    <tr style=\"text-align: right;\">\n",
              "      <th></th>\n",
              "      <th>v1</th>\n",
              "      <th>v2</th>\n",
              "      <th>Unnamed: 2</th>\n",
              "      <th>Unnamed: 3</th>\n",
              "      <th>Unnamed: 4</th>\n",
              "    </tr>\n",
              "  </thead>\n",
              "  <tbody>\n",
              "    <tr>\n",
              "      <th>0</th>\n",
              "      <td>ham</td>\n",
              "      <td>Go until jurong point, crazy.. Available only ...</td>\n",
              "      <td>NaN</td>\n",
              "      <td>NaN</td>\n",
              "      <td>NaN</td>\n",
              "    </tr>\n",
              "    <tr>\n",
              "      <th>1</th>\n",
              "      <td>ham</td>\n",
              "      <td>Ok lar... Joking wif u oni...</td>\n",
              "      <td>NaN</td>\n",
              "      <td>NaN</td>\n",
              "      <td>NaN</td>\n",
              "    </tr>\n",
              "    <tr>\n",
              "      <th>2</th>\n",
              "      <td>spam</td>\n",
              "      <td>Free entry in 2 a wkly comp to win FA Cup fina...</td>\n",
              "      <td>NaN</td>\n",
              "      <td>NaN</td>\n",
              "      <td>NaN</td>\n",
              "    </tr>\n",
              "    <tr>\n",
              "      <th>3</th>\n",
              "      <td>ham</td>\n",
              "      <td>U dun say so early hor... U c already then say...</td>\n",
              "      <td>NaN</td>\n",
              "      <td>NaN</td>\n",
              "      <td>NaN</td>\n",
              "    </tr>\n",
              "    <tr>\n",
              "      <th>4</th>\n",
              "      <td>ham</td>\n",
              "      <td>Nah I don't think he goes to usf, he lives aro...</td>\n",
              "      <td>NaN</td>\n",
              "      <td>NaN</td>\n",
              "      <td>NaN</td>\n",
              "    </tr>\n",
              "  </tbody>\n",
              "</table>\n",
              "</div>\n",
              "    <div class=\"colab-df-buttons\">\n",
              "\n",
              "  <div class=\"colab-df-container\">\n",
              "    <button class=\"colab-df-convert\" onclick=\"convertToInteractive('df-151026e3-519e-4b78-97ce-0bab41a7aba0')\"\n",
              "            title=\"Convert this dataframe to an interactive table.\"\n",
              "            style=\"display:none;\">\n",
              "\n",
              "  <svg xmlns=\"http://www.w3.org/2000/svg\" height=\"24px\" viewBox=\"0 -960 960 960\">\n",
              "    <path d=\"M120-120v-720h720v720H120Zm60-500h600v-160H180v160Zm220 220h160v-160H400v160Zm0 220h160v-160H400v160ZM180-400h160v-160H180v160Zm440 0h160v-160H620v160ZM180-180h160v-160H180v160Zm440 0h160v-160H620v160Z\"/>\n",
              "  </svg>\n",
              "    </button>\n",
              "\n",
              "  <style>\n",
              "    .colab-df-container {\n",
              "      display:flex;\n",
              "      gap: 12px;\n",
              "    }\n",
              "\n",
              "    .colab-df-convert {\n",
              "      background-color: #E8F0FE;\n",
              "      border: none;\n",
              "      border-radius: 50%;\n",
              "      cursor: pointer;\n",
              "      display: none;\n",
              "      fill: #1967D2;\n",
              "      height: 32px;\n",
              "      padding: 0 0 0 0;\n",
              "      width: 32px;\n",
              "    }\n",
              "\n",
              "    .colab-df-convert:hover {\n",
              "      background-color: #E2EBFA;\n",
              "      box-shadow: 0px 1px 2px rgba(60, 64, 67, 0.3), 0px 1px 3px 1px rgba(60, 64, 67, 0.15);\n",
              "      fill: #174EA6;\n",
              "    }\n",
              "\n",
              "    .colab-df-buttons div {\n",
              "      margin-bottom: 4px;\n",
              "    }\n",
              "\n",
              "    [theme=dark] .colab-df-convert {\n",
              "      background-color: #3B4455;\n",
              "      fill: #D2E3FC;\n",
              "    }\n",
              "\n",
              "    [theme=dark] .colab-df-convert:hover {\n",
              "      background-color: #434B5C;\n",
              "      box-shadow: 0px 1px 3px 1px rgba(0, 0, 0, 0.15);\n",
              "      filter: drop-shadow(0px 1px 2px rgba(0, 0, 0, 0.3));\n",
              "      fill: #FFFFFF;\n",
              "    }\n",
              "  </style>\n",
              "\n",
              "    <script>\n",
              "      const buttonEl =\n",
              "        document.querySelector('#df-151026e3-519e-4b78-97ce-0bab41a7aba0 button.colab-df-convert');\n",
              "      buttonEl.style.display =\n",
              "        google.colab.kernel.accessAllowed ? 'block' : 'none';\n",
              "\n",
              "      async function convertToInteractive(key) {\n",
              "        const element = document.querySelector('#df-151026e3-519e-4b78-97ce-0bab41a7aba0');\n",
              "        const dataTable =\n",
              "          await google.colab.kernel.invokeFunction('convertToInteractive',\n",
              "                                                    [key], {});\n",
              "        if (!dataTable) return;\n",
              "\n",
              "        const docLinkHtml = 'Like what you see? Visit the ' +\n",
              "          '<a target=\"_blank\" href=https://colab.research.google.com/notebooks/data_table.ipynb>data table notebook</a>'\n",
              "          + ' to learn more about interactive tables.';\n",
              "        element.innerHTML = '';\n",
              "        dataTable['output_type'] = 'display_data';\n",
              "        await google.colab.output.renderOutput(dataTable, element);\n",
              "        const docLink = document.createElement('div');\n",
              "        docLink.innerHTML = docLinkHtml;\n",
              "        element.appendChild(docLink);\n",
              "      }\n",
              "    </script>\n",
              "  </div>\n",
              "\n",
              "\n",
              "<div id=\"df-d543fbcd-78ad-4e59-98d9-714acca2f633\">\n",
              "  <button class=\"colab-df-quickchart\" onclick=\"quickchart('df-d543fbcd-78ad-4e59-98d9-714acca2f633')\"\n",
              "            title=\"Suggest charts\"\n",
              "            style=\"display:none;\">\n",
              "\n",
              "<svg xmlns=\"http://www.w3.org/2000/svg\" height=\"24px\"viewBox=\"0 0 24 24\"\n",
              "     width=\"24px\">\n",
              "    <g>\n",
              "        <path d=\"M19 3H5c-1.1 0-2 .9-2 2v14c0 1.1.9 2 2 2h14c1.1 0 2-.9 2-2V5c0-1.1-.9-2-2-2zM9 17H7v-7h2v7zm4 0h-2V7h2v10zm4 0h-2v-4h2v4z\"/>\n",
              "    </g>\n",
              "</svg>\n",
              "  </button>\n",
              "\n",
              "<style>\n",
              "  .colab-df-quickchart {\n",
              "      --bg-color: #E8F0FE;\n",
              "      --fill-color: #1967D2;\n",
              "      --hover-bg-color: #E2EBFA;\n",
              "      --hover-fill-color: #174EA6;\n",
              "      --disabled-fill-color: #AAA;\n",
              "      --disabled-bg-color: #DDD;\n",
              "  }\n",
              "\n",
              "  [theme=dark] .colab-df-quickchart {\n",
              "      --bg-color: #3B4455;\n",
              "      --fill-color: #D2E3FC;\n",
              "      --hover-bg-color: #434B5C;\n",
              "      --hover-fill-color: #FFFFFF;\n",
              "      --disabled-bg-color: #3B4455;\n",
              "      --disabled-fill-color: #666;\n",
              "  }\n",
              "\n",
              "  .colab-df-quickchart {\n",
              "    background-color: var(--bg-color);\n",
              "    border: none;\n",
              "    border-radius: 50%;\n",
              "    cursor: pointer;\n",
              "    display: none;\n",
              "    fill: var(--fill-color);\n",
              "    height: 32px;\n",
              "    padding: 0;\n",
              "    width: 32px;\n",
              "  }\n",
              "\n",
              "  .colab-df-quickchart:hover {\n",
              "    background-color: var(--hover-bg-color);\n",
              "    box-shadow: 0 1px 2px rgba(60, 64, 67, 0.3), 0 1px 3px 1px rgba(60, 64, 67, 0.15);\n",
              "    fill: var(--button-hover-fill-color);\n",
              "  }\n",
              "\n",
              "  .colab-df-quickchart-complete:disabled,\n",
              "  .colab-df-quickchart-complete:disabled:hover {\n",
              "    background-color: var(--disabled-bg-color);\n",
              "    fill: var(--disabled-fill-color);\n",
              "    box-shadow: none;\n",
              "  }\n",
              "\n",
              "  .colab-df-spinner {\n",
              "    border: 2px solid var(--fill-color);\n",
              "    border-color: transparent;\n",
              "    border-bottom-color: var(--fill-color);\n",
              "    animation:\n",
              "      spin 1s steps(1) infinite;\n",
              "  }\n",
              "\n",
              "  @keyframes spin {\n",
              "    0% {\n",
              "      border-color: transparent;\n",
              "      border-bottom-color: var(--fill-color);\n",
              "      border-left-color: var(--fill-color);\n",
              "    }\n",
              "    20% {\n",
              "      border-color: transparent;\n",
              "      border-left-color: var(--fill-color);\n",
              "      border-top-color: var(--fill-color);\n",
              "    }\n",
              "    30% {\n",
              "      border-color: transparent;\n",
              "      border-left-color: var(--fill-color);\n",
              "      border-top-color: var(--fill-color);\n",
              "      border-right-color: var(--fill-color);\n",
              "    }\n",
              "    40% {\n",
              "      border-color: transparent;\n",
              "      border-right-color: var(--fill-color);\n",
              "      border-top-color: var(--fill-color);\n",
              "    }\n",
              "    60% {\n",
              "      border-color: transparent;\n",
              "      border-right-color: var(--fill-color);\n",
              "    }\n",
              "    80% {\n",
              "      border-color: transparent;\n",
              "      border-right-color: var(--fill-color);\n",
              "      border-bottom-color: var(--fill-color);\n",
              "    }\n",
              "    90% {\n",
              "      border-color: transparent;\n",
              "      border-bottom-color: var(--fill-color);\n",
              "    }\n",
              "  }\n",
              "</style>\n",
              "\n",
              "  <script>\n",
              "    async function quickchart(key) {\n",
              "      const quickchartButtonEl =\n",
              "        document.querySelector('#' + key + ' button');\n",
              "      quickchartButtonEl.disabled = true;  // To prevent multiple clicks.\n",
              "      quickchartButtonEl.classList.add('colab-df-spinner');\n",
              "      try {\n",
              "        const charts = await google.colab.kernel.invokeFunction(\n",
              "            'suggestCharts', [key], {});\n",
              "      } catch (error) {\n",
              "        console.error('Error during call to suggestCharts:', error);\n",
              "      }\n",
              "      quickchartButtonEl.classList.remove('colab-df-spinner');\n",
              "      quickchartButtonEl.classList.add('colab-df-quickchart-complete');\n",
              "    }\n",
              "    (() => {\n",
              "      let quickchartButtonEl =\n",
              "        document.querySelector('#df-d543fbcd-78ad-4e59-98d9-714acca2f633 button');\n",
              "      quickchartButtonEl.style.display =\n",
              "        google.colab.kernel.accessAllowed ? 'block' : 'none';\n",
              "    })();\n",
              "  </script>\n",
              "</div>\n",
              "\n",
              "    </div>\n",
              "  </div>\n"
            ],
            "application/vnd.google.colaboratory.intrinsic+json": {
              "type": "dataframe",
              "variable_name": "df",
              "summary": "{\n  \"name\": \"df\",\n  \"rows\": 5572,\n  \"fields\": [\n    {\n      \"column\": \"v1\",\n      \"properties\": {\n        \"dtype\": \"category\",\n        \"num_unique_values\": 2,\n        \"samples\": [\n          \"spam\",\n          \"ham\"\n        ],\n        \"semantic_type\": \"\",\n        \"description\": \"\"\n      }\n    },\n    {\n      \"column\": \"v2\",\n      \"properties\": {\n        \"dtype\": \"string\",\n        \"num_unique_values\": 5169,\n        \"samples\": [\n          \"Did u download the fring app?\",\n          \"Pass dis to all ur contacts n see wat u get! Red;i'm in luv wid u. Blue;u put a smile on my face. Purple;u r realy hot. Pink;u r so swt. Orange;i thnk i lyk u. Green;i realy wana go out wid u. Yelow;i wnt u bck. Black;i'm jealous of u. Brown;i miss you Nw plz giv me one color\"\n        ],\n        \"semantic_type\": \"\",\n        \"description\": \"\"\n      }\n    },\n    {\n      \"column\": \"Unnamed: 2\",\n      \"properties\": {\n        \"dtype\": \"category\",\n        \"num_unique_values\": 43,\n        \"samples\": [\n          \" GOD said\",\n          \" SHE SHUDVETOLD U. DID URGRAN KNOW?NEWAY\"\n        ],\n        \"semantic_type\": \"\",\n        \"description\": \"\"\n      }\n    },\n    {\n      \"column\": \"Unnamed: 3\",\n      \"properties\": {\n        \"dtype\": \"category\",\n        \"num_unique_values\": 10,\n        \"samples\": [\n          \" \\\\\\\"OH No! COMPETITION\\\\\\\". Who knew\",\n          \" why to miss them\"\n        ],\n        \"semantic_type\": \"\",\n        \"description\": \"\"\n      }\n    },\n    {\n      \"column\": \"Unnamed: 4\",\n      \"properties\": {\n        \"dtype\": \"category\",\n        \"num_unique_values\": 5,\n        \"samples\": [\n          \"GNT:-)\\\"\",\n          \" one day these two will become FREINDS FOREVER!\\\"\"\n        ],\n        \"semantic_type\": \"\",\n        \"description\": \"\"\n      }\n    }\n  ]\n}"
            }
          },
          "metadata": {},
          "execution_count": 3
        }
      ],
      "source": [
        "df = pd.read_csv(drive_path+'/spam.csv',encoding='ISO-8859-1')\n",
        "df.head()"
      ]
    },
    {
      "cell_type": "markdown",
      "source": [
        "Removing unnecessary columns"
      ],
      "metadata": {
        "id": "nK0bZDFn7IVS"
      },
      "id": "nK0bZDFn7IVS"
    },
    {
      "cell_type": "code",
      "execution_count": null,
      "id": "4af7d552",
      "metadata": {
        "id": "4af7d552"
      },
      "outputs": [],
      "source": [
        "df.drop(['Unnamed: 2','Unnamed: 3','Unnamed: 4'],axis=1,inplace=True)"
      ]
    },
    {
      "cell_type": "markdown",
      "source": [
        "Handling missing values"
      ],
      "metadata": {
        "id": "djlhi5rz7LRH"
      },
      "id": "djlhi5rz7LRH"
    },
    {
      "cell_type": "code",
      "execution_count": null,
      "id": "4dd915ce",
      "metadata": {
        "colab": {
          "base_uri": "https://localhost:8080/",
          "height": 147
        },
        "id": "4dd915ce",
        "outputId": "d32f5715-0105-455e-e5f5-e81860a9a30e"
      },
      "outputs": [
        {
          "output_type": "execute_result",
          "data": {
            "text/plain": [
              "v1    0\n",
              "v2    0\n",
              "dtype: int64"
            ],
            "text/html": [
              "<div>\n",
              "<style scoped>\n",
              "    .dataframe tbody tr th:only-of-type {\n",
              "        vertical-align: middle;\n",
              "    }\n",
              "\n",
              "    .dataframe tbody tr th {\n",
              "        vertical-align: top;\n",
              "    }\n",
              "\n",
              "    .dataframe thead th {\n",
              "        text-align: right;\n",
              "    }\n",
              "</style>\n",
              "<table border=\"1\" class=\"dataframe\">\n",
              "  <thead>\n",
              "    <tr style=\"text-align: right;\">\n",
              "      <th></th>\n",
              "      <th>0</th>\n",
              "    </tr>\n",
              "  </thead>\n",
              "  <tbody>\n",
              "    <tr>\n",
              "      <th>v1</th>\n",
              "      <td>0</td>\n",
              "    </tr>\n",
              "    <tr>\n",
              "      <th>v2</th>\n",
              "      <td>0</td>\n",
              "    </tr>\n",
              "  </tbody>\n",
              "</table>\n",
              "</div><br><label><b>dtype:</b> int64</label>"
            ]
          },
          "metadata": {},
          "execution_count": 5
        }
      ],
      "source": [
        "df.isna().sum()"
      ]
    },
    {
      "cell_type": "code",
      "execution_count": null,
      "id": "133a9b75",
      "metadata": {
        "id": "133a9b75"
      },
      "outputs": [],
      "source": [
        "df.rename(columns={'v1':'label','v2':'message'},inplace=True)"
      ]
    },
    {
      "cell_type": "code",
      "execution_count": null,
      "id": "96745849",
      "metadata": {
        "colab": {
          "base_uri": "https://localhost:8080/",
          "height": 206
        },
        "id": "96745849",
        "outputId": "479d73bd-9b70-4bf8-eb0d-3a5acc3bbf4c"
      },
      "outputs": [
        {
          "output_type": "execute_result",
          "data": {
            "text/plain": [
              "  label                                            message\n",
              "0   ham  Go until jurong point, crazy.. Available only ...\n",
              "1   ham                      Ok lar... Joking wif u oni...\n",
              "2  spam  Free entry in 2 a wkly comp to win FA Cup fina...\n",
              "3   ham  U dun say so early hor... U c already then say...\n",
              "4   ham  Nah I don't think he goes to usf, he lives aro..."
            ],
            "text/html": [
              "\n",
              "  <div id=\"df-ee118ab0-6092-471d-b363-01c2b06dac06\" class=\"colab-df-container\">\n",
              "    <div>\n",
              "<style scoped>\n",
              "    .dataframe tbody tr th:only-of-type {\n",
              "        vertical-align: middle;\n",
              "    }\n",
              "\n",
              "    .dataframe tbody tr th {\n",
              "        vertical-align: top;\n",
              "    }\n",
              "\n",
              "    .dataframe thead th {\n",
              "        text-align: right;\n",
              "    }\n",
              "</style>\n",
              "<table border=\"1\" class=\"dataframe\">\n",
              "  <thead>\n",
              "    <tr style=\"text-align: right;\">\n",
              "      <th></th>\n",
              "      <th>label</th>\n",
              "      <th>message</th>\n",
              "    </tr>\n",
              "  </thead>\n",
              "  <tbody>\n",
              "    <tr>\n",
              "      <th>0</th>\n",
              "      <td>ham</td>\n",
              "      <td>Go until jurong point, crazy.. Available only ...</td>\n",
              "    </tr>\n",
              "    <tr>\n",
              "      <th>1</th>\n",
              "      <td>ham</td>\n",
              "      <td>Ok lar... Joking wif u oni...</td>\n",
              "    </tr>\n",
              "    <tr>\n",
              "      <th>2</th>\n",
              "      <td>spam</td>\n",
              "      <td>Free entry in 2 a wkly comp to win FA Cup fina...</td>\n",
              "    </tr>\n",
              "    <tr>\n",
              "      <th>3</th>\n",
              "      <td>ham</td>\n",
              "      <td>U dun say so early hor... U c already then say...</td>\n",
              "    </tr>\n",
              "    <tr>\n",
              "      <th>4</th>\n",
              "      <td>ham</td>\n",
              "      <td>Nah I don't think he goes to usf, he lives aro...</td>\n",
              "    </tr>\n",
              "  </tbody>\n",
              "</table>\n",
              "</div>\n",
              "    <div class=\"colab-df-buttons\">\n",
              "\n",
              "  <div class=\"colab-df-container\">\n",
              "    <button class=\"colab-df-convert\" onclick=\"convertToInteractive('df-ee118ab0-6092-471d-b363-01c2b06dac06')\"\n",
              "            title=\"Convert this dataframe to an interactive table.\"\n",
              "            style=\"display:none;\">\n",
              "\n",
              "  <svg xmlns=\"http://www.w3.org/2000/svg\" height=\"24px\" viewBox=\"0 -960 960 960\">\n",
              "    <path d=\"M120-120v-720h720v720H120Zm60-500h600v-160H180v160Zm220 220h160v-160H400v160Zm0 220h160v-160H400v160ZM180-400h160v-160H180v160Zm440 0h160v-160H620v160ZM180-180h160v-160H180v160Zm440 0h160v-160H620v160Z\"/>\n",
              "  </svg>\n",
              "    </button>\n",
              "\n",
              "  <style>\n",
              "    .colab-df-container {\n",
              "      display:flex;\n",
              "      gap: 12px;\n",
              "    }\n",
              "\n",
              "    .colab-df-convert {\n",
              "      background-color: #E8F0FE;\n",
              "      border: none;\n",
              "      border-radius: 50%;\n",
              "      cursor: pointer;\n",
              "      display: none;\n",
              "      fill: #1967D2;\n",
              "      height: 32px;\n",
              "      padding: 0 0 0 0;\n",
              "      width: 32px;\n",
              "    }\n",
              "\n",
              "    .colab-df-convert:hover {\n",
              "      background-color: #E2EBFA;\n",
              "      box-shadow: 0px 1px 2px rgba(60, 64, 67, 0.3), 0px 1px 3px 1px rgba(60, 64, 67, 0.15);\n",
              "      fill: #174EA6;\n",
              "    }\n",
              "\n",
              "    .colab-df-buttons div {\n",
              "      margin-bottom: 4px;\n",
              "    }\n",
              "\n",
              "    [theme=dark] .colab-df-convert {\n",
              "      background-color: #3B4455;\n",
              "      fill: #D2E3FC;\n",
              "    }\n",
              "\n",
              "    [theme=dark] .colab-df-convert:hover {\n",
              "      background-color: #434B5C;\n",
              "      box-shadow: 0px 1px 3px 1px rgba(0, 0, 0, 0.15);\n",
              "      filter: drop-shadow(0px 1px 2px rgba(0, 0, 0, 0.3));\n",
              "      fill: #FFFFFF;\n",
              "    }\n",
              "  </style>\n",
              "\n",
              "    <script>\n",
              "      const buttonEl =\n",
              "        document.querySelector('#df-ee118ab0-6092-471d-b363-01c2b06dac06 button.colab-df-convert');\n",
              "      buttonEl.style.display =\n",
              "        google.colab.kernel.accessAllowed ? 'block' : 'none';\n",
              "\n",
              "      async function convertToInteractive(key) {\n",
              "        const element = document.querySelector('#df-ee118ab0-6092-471d-b363-01c2b06dac06');\n",
              "        const dataTable =\n",
              "          await google.colab.kernel.invokeFunction('convertToInteractive',\n",
              "                                                    [key], {});\n",
              "        if (!dataTable) return;\n",
              "\n",
              "        const docLinkHtml = 'Like what you see? Visit the ' +\n",
              "          '<a target=\"_blank\" href=https://colab.research.google.com/notebooks/data_table.ipynb>data table notebook</a>'\n",
              "          + ' to learn more about interactive tables.';\n",
              "        element.innerHTML = '';\n",
              "        dataTable['output_type'] = 'display_data';\n",
              "        await google.colab.output.renderOutput(dataTable, element);\n",
              "        const docLink = document.createElement('div');\n",
              "        docLink.innerHTML = docLinkHtml;\n",
              "        element.appendChild(docLink);\n",
              "      }\n",
              "    </script>\n",
              "  </div>\n",
              "\n",
              "\n",
              "<div id=\"df-4cdf6a9c-b06e-47de-81a6-d7e991be3884\">\n",
              "  <button class=\"colab-df-quickchart\" onclick=\"quickchart('df-4cdf6a9c-b06e-47de-81a6-d7e991be3884')\"\n",
              "            title=\"Suggest charts\"\n",
              "            style=\"display:none;\">\n",
              "\n",
              "<svg xmlns=\"http://www.w3.org/2000/svg\" height=\"24px\"viewBox=\"0 0 24 24\"\n",
              "     width=\"24px\">\n",
              "    <g>\n",
              "        <path d=\"M19 3H5c-1.1 0-2 .9-2 2v14c0 1.1.9 2 2 2h14c1.1 0 2-.9 2-2V5c0-1.1-.9-2-2-2zM9 17H7v-7h2v7zm4 0h-2V7h2v10zm4 0h-2v-4h2v4z\"/>\n",
              "    </g>\n",
              "</svg>\n",
              "  </button>\n",
              "\n",
              "<style>\n",
              "  .colab-df-quickchart {\n",
              "      --bg-color: #E8F0FE;\n",
              "      --fill-color: #1967D2;\n",
              "      --hover-bg-color: #E2EBFA;\n",
              "      --hover-fill-color: #174EA6;\n",
              "      --disabled-fill-color: #AAA;\n",
              "      --disabled-bg-color: #DDD;\n",
              "  }\n",
              "\n",
              "  [theme=dark] .colab-df-quickchart {\n",
              "      --bg-color: #3B4455;\n",
              "      --fill-color: #D2E3FC;\n",
              "      --hover-bg-color: #434B5C;\n",
              "      --hover-fill-color: #FFFFFF;\n",
              "      --disabled-bg-color: #3B4455;\n",
              "      --disabled-fill-color: #666;\n",
              "  }\n",
              "\n",
              "  .colab-df-quickchart {\n",
              "    background-color: var(--bg-color);\n",
              "    border: none;\n",
              "    border-radius: 50%;\n",
              "    cursor: pointer;\n",
              "    display: none;\n",
              "    fill: var(--fill-color);\n",
              "    height: 32px;\n",
              "    padding: 0;\n",
              "    width: 32px;\n",
              "  }\n",
              "\n",
              "  .colab-df-quickchart:hover {\n",
              "    background-color: var(--hover-bg-color);\n",
              "    box-shadow: 0 1px 2px rgba(60, 64, 67, 0.3), 0 1px 3px 1px rgba(60, 64, 67, 0.15);\n",
              "    fill: var(--button-hover-fill-color);\n",
              "  }\n",
              "\n",
              "  .colab-df-quickchart-complete:disabled,\n",
              "  .colab-df-quickchart-complete:disabled:hover {\n",
              "    background-color: var(--disabled-bg-color);\n",
              "    fill: var(--disabled-fill-color);\n",
              "    box-shadow: none;\n",
              "  }\n",
              "\n",
              "  .colab-df-spinner {\n",
              "    border: 2px solid var(--fill-color);\n",
              "    border-color: transparent;\n",
              "    border-bottom-color: var(--fill-color);\n",
              "    animation:\n",
              "      spin 1s steps(1) infinite;\n",
              "  }\n",
              "\n",
              "  @keyframes spin {\n",
              "    0% {\n",
              "      border-color: transparent;\n",
              "      border-bottom-color: var(--fill-color);\n",
              "      border-left-color: var(--fill-color);\n",
              "    }\n",
              "    20% {\n",
              "      border-color: transparent;\n",
              "      border-left-color: var(--fill-color);\n",
              "      border-top-color: var(--fill-color);\n",
              "    }\n",
              "    30% {\n",
              "      border-color: transparent;\n",
              "      border-left-color: var(--fill-color);\n",
              "      border-top-color: var(--fill-color);\n",
              "      border-right-color: var(--fill-color);\n",
              "    }\n",
              "    40% {\n",
              "      border-color: transparent;\n",
              "      border-right-color: var(--fill-color);\n",
              "      border-top-color: var(--fill-color);\n",
              "    }\n",
              "    60% {\n",
              "      border-color: transparent;\n",
              "      border-right-color: var(--fill-color);\n",
              "    }\n",
              "    80% {\n",
              "      border-color: transparent;\n",
              "      border-right-color: var(--fill-color);\n",
              "      border-bottom-color: var(--fill-color);\n",
              "    }\n",
              "    90% {\n",
              "      border-color: transparent;\n",
              "      border-bottom-color: var(--fill-color);\n",
              "    }\n",
              "  }\n",
              "</style>\n",
              "\n",
              "  <script>\n",
              "    async function quickchart(key) {\n",
              "      const quickchartButtonEl =\n",
              "        document.querySelector('#' + key + ' button');\n",
              "      quickchartButtonEl.disabled = true;  // To prevent multiple clicks.\n",
              "      quickchartButtonEl.classList.add('colab-df-spinner');\n",
              "      try {\n",
              "        const charts = await google.colab.kernel.invokeFunction(\n",
              "            'suggestCharts', [key], {});\n",
              "      } catch (error) {\n",
              "        console.error('Error during call to suggestCharts:', error);\n",
              "      }\n",
              "      quickchartButtonEl.classList.remove('colab-df-spinner');\n",
              "      quickchartButtonEl.classList.add('colab-df-quickchart-complete');\n",
              "    }\n",
              "    (() => {\n",
              "      let quickchartButtonEl =\n",
              "        document.querySelector('#df-4cdf6a9c-b06e-47de-81a6-d7e991be3884 button');\n",
              "      quickchartButtonEl.style.display =\n",
              "        google.colab.kernel.accessAllowed ? 'block' : 'none';\n",
              "    })();\n",
              "  </script>\n",
              "</div>\n",
              "\n",
              "    </div>\n",
              "  </div>\n"
            ],
            "application/vnd.google.colaboratory.intrinsic+json": {
              "type": "dataframe",
              "variable_name": "df",
              "summary": "{\n  \"name\": \"df\",\n  \"rows\": 5572,\n  \"fields\": [\n    {\n      \"column\": \"label\",\n      \"properties\": {\n        \"dtype\": \"category\",\n        \"num_unique_values\": 2,\n        \"samples\": [\n          \"spam\",\n          \"ham\"\n        ],\n        \"semantic_type\": \"\",\n        \"description\": \"\"\n      }\n    },\n    {\n      \"column\": \"message\",\n      \"properties\": {\n        \"dtype\": \"string\",\n        \"num_unique_values\": 5169,\n        \"samples\": [\n          \"Did u download the fring app?\",\n          \"Pass dis to all ur contacts n see wat u get! Red;i'm in luv wid u. Blue;u put a smile on my face. Purple;u r realy hot. Pink;u r so swt. Orange;i thnk i lyk u. Green;i realy wana go out wid u. Yelow;i wnt u bck. Black;i'm jealous of u. Brown;i miss you Nw plz giv me one color\"\n        ],\n        \"semantic_type\": \"\",\n        \"description\": \"\"\n      }\n    }\n  ]\n}"
            }
          },
          "metadata": {},
          "execution_count": 7
        }
      ],
      "source": [
        "df.head()"
      ]
    },
    {
      "cell_type": "code",
      "execution_count": null,
      "id": "fcab3578",
      "metadata": {
        "id": "fcab3578"
      },
      "outputs": [],
      "source": [
        "df['label'] = df['label'].map({'ham': 0, 'spam': 1})"
      ]
    },
    {
      "cell_type": "code",
      "execution_count": null,
      "id": "e2c37c06",
      "metadata": {
        "colab": {
          "base_uri": "https://localhost:8080/",
          "height": 206
        },
        "id": "e2c37c06",
        "outputId": "3bb217ba-0621-4399-b824-53a5a8d3230e"
      },
      "outputs": [
        {
          "output_type": "execute_result",
          "data": {
            "text/plain": [
              "   label                                            message\n",
              "0      0  Go until jurong point, crazy.. Available only ...\n",
              "1      0                      Ok lar... Joking wif u oni...\n",
              "2      1  Free entry in 2 a wkly comp to win FA Cup fina...\n",
              "3      0  U dun say so early hor... U c already then say...\n",
              "4      0  Nah I don't think he goes to usf, he lives aro..."
            ],
            "text/html": [
              "\n",
              "  <div id=\"df-4f4814e8-c2f2-4165-b813-27b75f73ca5f\" class=\"colab-df-container\">\n",
              "    <div>\n",
              "<style scoped>\n",
              "    .dataframe tbody tr th:only-of-type {\n",
              "        vertical-align: middle;\n",
              "    }\n",
              "\n",
              "    .dataframe tbody tr th {\n",
              "        vertical-align: top;\n",
              "    }\n",
              "\n",
              "    .dataframe thead th {\n",
              "        text-align: right;\n",
              "    }\n",
              "</style>\n",
              "<table border=\"1\" class=\"dataframe\">\n",
              "  <thead>\n",
              "    <tr style=\"text-align: right;\">\n",
              "      <th></th>\n",
              "      <th>label</th>\n",
              "      <th>message</th>\n",
              "    </tr>\n",
              "  </thead>\n",
              "  <tbody>\n",
              "    <tr>\n",
              "      <th>0</th>\n",
              "      <td>0</td>\n",
              "      <td>Go until jurong point, crazy.. Available only ...</td>\n",
              "    </tr>\n",
              "    <tr>\n",
              "      <th>1</th>\n",
              "      <td>0</td>\n",
              "      <td>Ok lar... Joking wif u oni...</td>\n",
              "    </tr>\n",
              "    <tr>\n",
              "      <th>2</th>\n",
              "      <td>1</td>\n",
              "      <td>Free entry in 2 a wkly comp to win FA Cup fina...</td>\n",
              "    </tr>\n",
              "    <tr>\n",
              "      <th>3</th>\n",
              "      <td>0</td>\n",
              "      <td>U dun say so early hor... U c already then say...</td>\n",
              "    </tr>\n",
              "    <tr>\n",
              "      <th>4</th>\n",
              "      <td>0</td>\n",
              "      <td>Nah I don't think he goes to usf, he lives aro...</td>\n",
              "    </tr>\n",
              "  </tbody>\n",
              "</table>\n",
              "</div>\n",
              "    <div class=\"colab-df-buttons\">\n",
              "\n",
              "  <div class=\"colab-df-container\">\n",
              "    <button class=\"colab-df-convert\" onclick=\"convertToInteractive('df-4f4814e8-c2f2-4165-b813-27b75f73ca5f')\"\n",
              "            title=\"Convert this dataframe to an interactive table.\"\n",
              "            style=\"display:none;\">\n",
              "\n",
              "  <svg xmlns=\"http://www.w3.org/2000/svg\" height=\"24px\" viewBox=\"0 -960 960 960\">\n",
              "    <path d=\"M120-120v-720h720v720H120Zm60-500h600v-160H180v160Zm220 220h160v-160H400v160Zm0 220h160v-160H400v160ZM180-400h160v-160H180v160Zm440 0h160v-160H620v160ZM180-180h160v-160H180v160Zm440 0h160v-160H620v160Z\"/>\n",
              "  </svg>\n",
              "    </button>\n",
              "\n",
              "  <style>\n",
              "    .colab-df-container {\n",
              "      display:flex;\n",
              "      gap: 12px;\n",
              "    }\n",
              "\n",
              "    .colab-df-convert {\n",
              "      background-color: #E8F0FE;\n",
              "      border: none;\n",
              "      border-radius: 50%;\n",
              "      cursor: pointer;\n",
              "      display: none;\n",
              "      fill: #1967D2;\n",
              "      height: 32px;\n",
              "      padding: 0 0 0 0;\n",
              "      width: 32px;\n",
              "    }\n",
              "\n",
              "    .colab-df-convert:hover {\n",
              "      background-color: #E2EBFA;\n",
              "      box-shadow: 0px 1px 2px rgba(60, 64, 67, 0.3), 0px 1px 3px 1px rgba(60, 64, 67, 0.15);\n",
              "      fill: #174EA6;\n",
              "    }\n",
              "\n",
              "    .colab-df-buttons div {\n",
              "      margin-bottom: 4px;\n",
              "    }\n",
              "\n",
              "    [theme=dark] .colab-df-convert {\n",
              "      background-color: #3B4455;\n",
              "      fill: #D2E3FC;\n",
              "    }\n",
              "\n",
              "    [theme=dark] .colab-df-convert:hover {\n",
              "      background-color: #434B5C;\n",
              "      box-shadow: 0px 1px 3px 1px rgba(0, 0, 0, 0.15);\n",
              "      filter: drop-shadow(0px 1px 2px rgba(0, 0, 0, 0.3));\n",
              "      fill: #FFFFFF;\n",
              "    }\n",
              "  </style>\n",
              "\n",
              "    <script>\n",
              "      const buttonEl =\n",
              "        document.querySelector('#df-4f4814e8-c2f2-4165-b813-27b75f73ca5f button.colab-df-convert');\n",
              "      buttonEl.style.display =\n",
              "        google.colab.kernel.accessAllowed ? 'block' : 'none';\n",
              "\n",
              "      async function convertToInteractive(key) {\n",
              "        const element = document.querySelector('#df-4f4814e8-c2f2-4165-b813-27b75f73ca5f');\n",
              "        const dataTable =\n",
              "          await google.colab.kernel.invokeFunction('convertToInteractive',\n",
              "                                                    [key], {});\n",
              "        if (!dataTable) return;\n",
              "\n",
              "        const docLinkHtml = 'Like what you see? Visit the ' +\n",
              "          '<a target=\"_blank\" href=https://colab.research.google.com/notebooks/data_table.ipynb>data table notebook</a>'\n",
              "          + ' to learn more about interactive tables.';\n",
              "        element.innerHTML = '';\n",
              "        dataTable['output_type'] = 'display_data';\n",
              "        await google.colab.output.renderOutput(dataTable, element);\n",
              "        const docLink = document.createElement('div');\n",
              "        docLink.innerHTML = docLinkHtml;\n",
              "        element.appendChild(docLink);\n",
              "      }\n",
              "    </script>\n",
              "  </div>\n",
              "\n",
              "\n",
              "<div id=\"df-2ccd4e7b-40d2-4264-9299-7fae8894493d\">\n",
              "  <button class=\"colab-df-quickchart\" onclick=\"quickchart('df-2ccd4e7b-40d2-4264-9299-7fae8894493d')\"\n",
              "            title=\"Suggest charts\"\n",
              "            style=\"display:none;\">\n",
              "\n",
              "<svg xmlns=\"http://www.w3.org/2000/svg\" height=\"24px\"viewBox=\"0 0 24 24\"\n",
              "     width=\"24px\">\n",
              "    <g>\n",
              "        <path d=\"M19 3H5c-1.1 0-2 .9-2 2v14c0 1.1.9 2 2 2h14c1.1 0 2-.9 2-2V5c0-1.1-.9-2-2-2zM9 17H7v-7h2v7zm4 0h-2V7h2v10zm4 0h-2v-4h2v4z\"/>\n",
              "    </g>\n",
              "</svg>\n",
              "  </button>\n",
              "\n",
              "<style>\n",
              "  .colab-df-quickchart {\n",
              "      --bg-color: #E8F0FE;\n",
              "      --fill-color: #1967D2;\n",
              "      --hover-bg-color: #E2EBFA;\n",
              "      --hover-fill-color: #174EA6;\n",
              "      --disabled-fill-color: #AAA;\n",
              "      --disabled-bg-color: #DDD;\n",
              "  }\n",
              "\n",
              "  [theme=dark] .colab-df-quickchart {\n",
              "      --bg-color: #3B4455;\n",
              "      --fill-color: #D2E3FC;\n",
              "      --hover-bg-color: #434B5C;\n",
              "      --hover-fill-color: #FFFFFF;\n",
              "      --disabled-bg-color: #3B4455;\n",
              "      --disabled-fill-color: #666;\n",
              "  }\n",
              "\n",
              "  .colab-df-quickchart {\n",
              "    background-color: var(--bg-color);\n",
              "    border: none;\n",
              "    border-radius: 50%;\n",
              "    cursor: pointer;\n",
              "    display: none;\n",
              "    fill: var(--fill-color);\n",
              "    height: 32px;\n",
              "    padding: 0;\n",
              "    width: 32px;\n",
              "  }\n",
              "\n",
              "  .colab-df-quickchart:hover {\n",
              "    background-color: var(--hover-bg-color);\n",
              "    box-shadow: 0 1px 2px rgba(60, 64, 67, 0.3), 0 1px 3px 1px rgba(60, 64, 67, 0.15);\n",
              "    fill: var(--button-hover-fill-color);\n",
              "  }\n",
              "\n",
              "  .colab-df-quickchart-complete:disabled,\n",
              "  .colab-df-quickchart-complete:disabled:hover {\n",
              "    background-color: var(--disabled-bg-color);\n",
              "    fill: var(--disabled-fill-color);\n",
              "    box-shadow: none;\n",
              "  }\n",
              "\n",
              "  .colab-df-spinner {\n",
              "    border: 2px solid var(--fill-color);\n",
              "    border-color: transparent;\n",
              "    border-bottom-color: var(--fill-color);\n",
              "    animation:\n",
              "      spin 1s steps(1) infinite;\n",
              "  }\n",
              "\n",
              "  @keyframes spin {\n",
              "    0% {\n",
              "      border-color: transparent;\n",
              "      border-bottom-color: var(--fill-color);\n",
              "      border-left-color: var(--fill-color);\n",
              "    }\n",
              "    20% {\n",
              "      border-color: transparent;\n",
              "      border-left-color: var(--fill-color);\n",
              "      border-top-color: var(--fill-color);\n",
              "    }\n",
              "    30% {\n",
              "      border-color: transparent;\n",
              "      border-left-color: var(--fill-color);\n",
              "      border-top-color: var(--fill-color);\n",
              "      border-right-color: var(--fill-color);\n",
              "    }\n",
              "    40% {\n",
              "      border-color: transparent;\n",
              "      border-right-color: var(--fill-color);\n",
              "      border-top-color: var(--fill-color);\n",
              "    }\n",
              "    60% {\n",
              "      border-color: transparent;\n",
              "      border-right-color: var(--fill-color);\n",
              "    }\n",
              "    80% {\n",
              "      border-color: transparent;\n",
              "      border-right-color: var(--fill-color);\n",
              "      border-bottom-color: var(--fill-color);\n",
              "    }\n",
              "    90% {\n",
              "      border-color: transparent;\n",
              "      border-bottom-color: var(--fill-color);\n",
              "    }\n",
              "  }\n",
              "</style>\n",
              "\n",
              "  <script>\n",
              "    async function quickchart(key) {\n",
              "      const quickchartButtonEl =\n",
              "        document.querySelector('#' + key + ' button');\n",
              "      quickchartButtonEl.disabled = true;  // To prevent multiple clicks.\n",
              "      quickchartButtonEl.classList.add('colab-df-spinner');\n",
              "      try {\n",
              "        const charts = await google.colab.kernel.invokeFunction(\n",
              "            'suggestCharts', [key], {});\n",
              "      } catch (error) {\n",
              "        console.error('Error during call to suggestCharts:', error);\n",
              "      }\n",
              "      quickchartButtonEl.classList.remove('colab-df-spinner');\n",
              "      quickchartButtonEl.classList.add('colab-df-quickchart-complete');\n",
              "    }\n",
              "    (() => {\n",
              "      let quickchartButtonEl =\n",
              "        document.querySelector('#df-2ccd4e7b-40d2-4264-9299-7fae8894493d button');\n",
              "      quickchartButtonEl.style.display =\n",
              "        google.colab.kernel.accessAllowed ? 'block' : 'none';\n",
              "    })();\n",
              "  </script>\n",
              "</div>\n",
              "\n",
              "    </div>\n",
              "  </div>\n"
            ],
            "application/vnd.google.colaboratory.intrinsic+json": {
              "type": "dataframe",
              "variable_name": "df",
              "summary": "{\n  \"name\": \"df\",\n  \"rows\": 5572,\n  \"fields\": [\n    {\n      \"column\": \"label\",\n      \"properties\": {\n        \"dtype\": \"number\",\n        \"std\": 0,\n        \"min\": 0,\n        \"max\": 1,\n        \"num_unique_values\": 2,\n        \"samples\": [\n          1,\n          0\n        ],\n        \"semantic_type\": \"\",\n        \"description\": \"\"\n      }\n    },\n    {\n      \"column\": \"message\",\n      \"properties\": {\n        \"dtype\": \"string\",\n        \"num_unique_values\": 5169,\n        \"samples\": [\n          \"Did u download the fring app?\",\n          \"Pass dis to all ur contacts n see wat u get! Red;i'm in luv wid u. Blue;u put a smile on my face. Purple;u r realy hot. Pink;u r so swt. Orange;i thnk i lyk u. Green;i realy wana go out wid u. Yelow;i wnt u bck. Black;i'm jealous of u. Brown;i miss you Nw plz giv me one color\"\n        ],\n        \"semantic_type\": \"\",\n        \"description\": \"\"\n      }\n    }\n  ]\n}"
            }
          },
          "metadata": {},
          "execution_count": 9
        }
      ],
      "source": [
        "df.head()"
      ]
    },
    {
      "cell_type": "markdown",
      "source": [
        "Handling duplicates"
      ],
      "metadata": {
        "id": "rAr6AnFU7VR9"
      },
      "id": "rAr6AnFU7VR9"
    },
    {
      "cell_type": "code",
      "source": [
        "df.duplicated().sum()"
      ],
      "metadata": {
        "colab": {
          "base_uri": "https://localhost:8080/"
        },
        "id": "oEQ01p5y0pDN",
        "outputId": "27e51b20-8115-4555-ed50-83ee95963bad"
      },
      "id": "oEQ01p5y0pDN",
      "execution_count": null,
      "outputs": [
        {
          "output_type": "execute_result",
          "data": {
            "text/plain": [
              "403"
            ]
          },
          "metadata": {},
          "execution_count": 10
        }
      ]
    },
    {
      "cell_type": "code",
      "source": [
        "df[df.duplicated(keep='first')].head()"
      ],
      "metadata": {
        "colab": {
          "base_uri": "https://localhost:8080/",
          "height": 206
        },
        "id": "DbUugrwG04at",
        "outputId": "28e10781-e9ba-476e-e280-6864d288b0eb"
      },
      "id": "DbUugrwG04at",
      "execution_count": null,
      "outputs": [
        {
          "output_type": "execute_result",
          "data": {
            "text/plain": [
              "     label                                            message\n",
              "102      0  As per your request 'Melle Melle (Oru Minnamin...\n",
              "153      0  As per your request 'Melle Melle (Oru Minnamin...\n",
              "206      0  As I entered my cabin my PA said, '' Happy B'd...\n",
              "222      0                             Sorry, I'll call later\n",
              "325      0                   No calls..messages..missed calls"
            ],
            "text/html": [
              "\n",
              "  <div id=\"df-7a75a241-8cab-432e-a31b-57242b62f540\" class=\"colab-df-container\">\n",
              "    <div>\n",
              "<style scoped>\n",
              "    .dataframe tbody tr th:only-of-type {\n",
              "        vertical-align: middle;\n",
              "    }\n",
              "\n",
              "    .dataframe tbody tr th {\n",
              "        vertical-align: top;\n",
              "    }\n",
              "\n",
              "    .dataframe thead th {\n",
              "        text-align: right;\n",
              "    }\n",
              "</style>\n",
              "<table border=\"1\" class=\"dataframe\">\n",
              "  <thead>\n",
              "    <tr style=\"text-align: right;\">\n",
              "      <th></th>\n",
              "      <th>label</th>\n",
              "      <th>message</th>\n",
              "    </tr>\n",
              "  </thead>\n",
              "  <tbody>\n",
              "    <tr>\n",
              "      <th>102</th>\n",
              "      <td>0</td>\n",
              "      <td>As per your request 'Melle Melle (Oru Minnamin...</td>\n",
              "    </tr>\n",
              "    <tr>\n",
              "      <th>153</th>\n",
              "      <td>0</td>\n",
              "      <td>As per your request 'Melle Melle (Oru Minnamin...</td>\n",
              "    </tr>\n",
              "    <tr>\n",
              "      <th>206</th>\n",
              "      <td>0</td>\n",
              "      <td>As I entered my cabin my PA said, '' Happy B'd...</td>\n",
              "    </tr>\n",
              "    <tr>\n",
              "      <th>222</th>\n",
              "      <td>0</td>\n",
              "      <td>Sorry, I'll call later</td>\n",
              "    </tr>\n",
              "    <tr>\n",
              "      <th>325</th>\n",
              "      <td>0</td>\n",
              "      <td>No calls..messages..missed calls</td>\n",
              "    </tr>\n",
              "  </tbody>\n",
              "</table>\n",
              "</div>\n",
              "    <div class=\"colab-df-buttons\">\n",
              "\n",
              "  <div class=\"colab-df-container\">\n",
              "    <button class=\"colab-df-convert\" onclick=\"convertToInteractive('df-7a75a241-8cab-432e-a31b-57242b62f540')\"\n",
              "            title=\"Convert this dataframe to an interactive table.\"\n",
              "            style=\"display:none;\">\n",
              "\n",
              "  <svg xmlns=\"http://www.w3.org/2000/svg\" height=\"24px\" viewBox=\"0 -960 960 960\">\n",
              "    <path d=\"M120-120v-720h720v720H120Zm60-500h600v-160H180v160Zm220 220h160v-160H400v160Zm0 220h160v-160H400v160ZM180-400h160v-160H180v160Zm440 0h160v-160H620v160ZM180-180h160v-160H180v160Zm440 0h160v-160H620v160Z\"/>\n",
              "  </svg>\n",
              "    </button>\n",
              "\n",
              "  <style>\n",
              "    .colab-df-container {\n",
              "      display:flex;\n",
              "      gap: 12px;\n",
              "    }\n",
              "\n",
              "    .colab-df-convert {\n",
              "      background-color: #E8F0FE;\n",
              "      border: none;\n",
              "      border-radius: 50%;\n",
              "      cursor: pointer;\n",
              "      display: none;\n",
              "      fill: #1967D2;\n",
              "      height: 32px;\n",
              "      padding: 0 0 0 0;\n",
              "      width: 32px;\n",
              "    }\n",
              "\n",
              "    .colab-df-convert:hover {\n",
              "      background-color: #E2EBFA;\n",
              "      box-shadow: 0px 1px 2px rgba(60, 64, 67, 0.3), 0px 1px 3px 1px rgba(60, 64, 67, 0.15);\n",
              "      fill: #174EA6;\n",
              "    }\n",
              "\n",
              "    .colab-df-buttons div {\n",
              "      margin-bottom: 4px;\n",
              "    }\n",
              "\n",
              "    [theme=dark] .colab-df-convert {\n",
              "      background-color: #3B4455;\n",
              "      fill: #D2E3FC;\n",
              "    }\n",
              "\n",
              "    [theme=dark] .colab-df-convert:hover {\n",
              "      background-color: #434B5C;\n",
              "      box-shadow: 0px 1px 3px 1px rgba(0, 0, 0, 0.15);\n",
              "      filter: drop-shadow(0px 1px 2px rgba(0, 0, 0, 0.3));\n",
              "      fill: #FFFFFF;\n",
              "    }\n",
              "  </style>\n",
              "\n",
              "    <script>\n",
              "      const buttonEl =\n",
              "        document.querySelector('#df-7a75a241-8cab-432e-a31b-57242b62f540 button.colab-df-convert');\n",
              "      buttonEl.style.display =\n",
              "        google.colab.kernel.accessAllowed ? 'block' : 'none';\n",
              "\n",
              "      async function convertToInteractive(key) {\n",
              "        const element = document.querySelector('#df-7a75a241-8cab-432e-a31b-57242b62f540');\n",
              "        const dataTable =\n",
              "          await google.colab.kernel.invokeFunction('convertToInteractive',\n",
              "                                                    [key], {});\n",
              "        if (!dataTable) return;\n",
              "\n",
              "        const docLinkHtml = 'Like what you see? Visit the ' +\n",
              "          '<a target=\"_blank\" href=https://colab.research.google.com/notebooks/data_table.ipynb>data table notebook</a>'\n",
              "          + ' to learn more about interactive tables.';\n",
              "        element.innerHTML = '';\n",
              "        dataTable['output_type'] = 'display_data';\n",
              "        await google.colab.output.renderOutput(dataTable, element);\n",
              "        const docLink = document.createElement('div');\n",
              "        docLink.innerHTML = docLinkHtml;\n",
              "        element.appendChild(docLink);\n",
              "      }\n",
              "    </script>\n",
              "  </div>\n",
              "\n",
              "\n",
              "<div id=\"df-dc62f1b0-3e8e-4764-a0ff-afd7ce8d1aa0\">\n",
              "  <button class=\"colab-df-quickchart\" onclick=\"quickchart('df-dc62f1b0-3e8e-4764-a0ff-afd7ce8d1aa0')\"\n",
              "            title=\"Suggest charts\"\n",
              "            style=\"display:none;\">\n",
              "\n",
              "<svg xmlns=\"http://www.w3.org/2000/svg\" height=\"24px\"viewBox=\"0 0 24 24\"\n",
              "     width=\"24px\">\n",
              "    <g>\n",
              "        <path d=\"M19 3H5c-1.1 0-2 .9-2 2v14c0 1.1.9 2 2 2h14c1.1 0 2-.9 2-2V5c0-1.1-.9-2-2-2zM9 17H7v-7h2v7zm4 0h-2V7h2v10zm4 0h-2v-4h2v4z\"/>\n",
              "    </g>\n",
              "</svg>\n",
              "  </button>\n",
              "\n",
              "<style>\n",
              "  .colab-df-quickchart {\n",
              "      --bg-color: #E8F0FE;\n",
              "      --fill-color: #1967D2;\n",
              "      --hover-bg-color: #E2EBFA;\n",
              "      --hover-fill-color: #174EA6;\n",
              "      --disabled-fill-color: #AAA;\n",
              "      --disabled-bg-color: #DDD;\n",
              "  }\n",
              "\n",
              "  [theme=dark] .colab-df-quickchart {\n",
              "      --bg-color: #3B4455;\n",
              "      --fill-color: #D2E3FC;\n",
              "      --hover-bg-color: #434B5C;\n",
              "      --hover-fill-color: #FFFFFF;\n",
              "      --disabled-bg-color: #3B4455;\n",
              "      --disabled-fill-color: #666;\n",
              "  }\n",
              "\n",
              "  .colab-df-quickchart {\n",
              "    background-color: var(--bg-color);\n",
              "    border: none;\n",
              "    border-radius: 50%;\n",
              "    cursor: pointer;\n",
              "    display: none;\n",
              "    fill: var(--fill-color);\n",
              "    height: 32px;\n",
              "    padding: 0;\n",
              "    width: 32px;\n",
              "  }\n",
              "\n",
              "  .colab-df-quickchart:hover {\n",
              "    background-color: var(--hover-bg-color);\n",
              "    box-shadow: 0 1px 2px rgba(60, 64, 67, 0.3), 0 1px 3px 1px rgba(60, 64, 67, 0.15);\n",
              "    fill: var(--button-hover-fill-color);\n",
              "  }\n",
              "\n",
              "  .colab-df-quickchart-complete:disabled,\n",
              "  .colab-df-quickchart-complete:disabled:hover {\n",
              "    background-color: var(--disabled-bg-color);\n",
              "    fill: var(--disabled-fill-color);\n",
              "    box-shadow: none;\n",
              "  }\n",
              "\n",
              "  .colab-df-spinner {\n",
              "    border: 2px solid var(--fill-color);\n",
              "    border-color: transparent;\n",
              "    border-bottom-color: var(--fill-color);\n",
              "    animation:\n",
              "      spin 1s steps(1) infinite;\n",
              "  }\n",
              "\n",
              "  @keyframes spin {\n",
              "    0% {\n",
              "      border-color: transparent;\n",
              "      border-bottom-color: var(--fill-color);\n",
              "      border-left-color: var(--fill-color);\n",
              "    }\n",
              "    20% {\n",
              "      border-color: transparent;\n",
              "      border-left-color: var(--fill-color);\n",
              "      border-top-color: var(--fill-color);\n",
              "    }\n",
              "    30% {\n",
              "      border-color: transparent;\n",
              "      border-left-color: var(--fill-color);\n",
              "      border-top-color: var(--fill-color);\n",
              "      border-right-color: var(--fill-color);\n",
              "    }\n",
              "    40% {\n",
              "      border-color: transparent;\n",
              "      border-right-color: var(--fill-color);\n",
              "      border-top-color: var(--fill-color);\n",
              "    }\n",
              "    60% {\n",
              "      border-color: transparent;\n",
              "      border-right-color: var(--fill-color);\n",
              "    }\n",
              "    80% {\n",
              "      border-color: transparent;\n",
              "      border-right-color: var(--fill-color);\n",
              "      border-bottom-color: var(--fill-color);\n",
              "    }\n",
              "    90% {\n",
              "      border-color: transparent;\n",
              "      border-bottom-color: var(--fill-color);\n",
              "    }\n",
              "  }\n",
              "</style>\n",
              "\n",
              "  <script>\n",
              "    async function quickchart(key) {\n",
              "      const quickchartButtonEl =\n",
              "        document.querySelector('#' + key + ' button');\n",
              "      quickchartButtonEl.disabled = true;  // To prevent multiple clicks.\n",
              "      quickchartButtonEl.classList.add('colab-df-spinner');\n",
              "      try {\n",
              "        const charts = await google.colab.kernel.invokeFunction(\n",
              "            'suggestCharts', [key], {});\n",
              "      } catch (error) {\n",
              "        console.error('Error during call to suggestCharts:', error);\n",
              "      }\n",
              "      quickchartButtonEl.classList.remove('colab-df-spinner');\n",
              "      quickchartButtonEl.classList.add('colab-df-quickchart-complete');\n",
              "    }\n",
              "    (() => {\n",
              "      let quickchartButtonEl =\n",
              "        document.querySelector('#df-dc62f1b0-3e8e-4764-a0ff-afd7ce8d1aa0 button');\n",
              "      quickchartButtonEl.style.display =\n",
              "        google.colab.kernel.accessAllowed ? 'block' : 'none';\n",
              "    })();\n",
              "  </script>\n",
              "</div>\n",
              "\n",
              "    </div>\n",
              "  </div>\n"
            ],
            "application/vnd.google.colaboratory.intrinsic+json": {
              "type": "dataframe",
              "summary": "{\n  \"name\": \"df[df\",\n  \"rows\": 5,\n  \"fields\": [\n    {\n      \"column\": \"label\",\n      \"properties\": {\n        \"dtype\": \"number\",\n        \"std\": 0,\n        \"min\": 0,\n        \"max\": 0,\n        \"num_unique_values\": 1,\n        \"samples\": [\n          0\n        ],\n        \"semantic_type\": \"\",\n        \"description\": \"\"\n      }\n    },\n    {\n      \"column\": \"message\",\n      \"properties\": {\n        \"dtype\": \"string\",\n        \"num_unique_values\": 4,\n        \"samples\": [\n          \"As I entered my cabin my PA said, '' Happy B'day Boss !!''. I felt special. She askd me 4 lunch. After lunch she invited me to her apartment. We went there.\"\n        ],\n        \"semantic_type\": \"\",\n        \"description\": \"\"\n      }\n    }\n  ]\n}"
            }
          },
          "metadata": {},
          "execution_count": 11
        }
      ]
    },
    {
      "cell_type": "code",
      "source": [
        "df.drop_duplicates(inplace=True)\n",
        "df.reset_index(drop=True, inplace=True)"
      ],
      "metadata": {
        "id": "CCLiqklD074a"
      },
      "id": "CCLiqklD074a",
      "execution_count": null,
      "outputs": []
    },
    {
      "cell_type": "code",
      "source": [
        "df.duplicated().sum()"
      ],
      "metadata": {
        "colab": {
          "base_uri": "https://localhost:8080/"
        },
        "id": "TsmhVQNP1AM8",
        "outputId": "86c93d99-6642-4c6a-a027-42340799d90c"
      },
      "id": "TsmhVQNP1AM8",
      "execution_count": null,
      "outputs": [
        {
          "output_type": "execute_result",
          "data": {
            "text/plain": [
              "0"
            ]
          },
          "metadata": {},
          "execution_count": 13
        }
      ]
    },
    {
      "cell_type": "markdown",
      "source": [
        "Function for cleaning and processing text"
      ],
      "metadata": {
        "id": "CMfi9W5r7dME"
      },
      "id": "CMfi9W5r7dME"
    },
    {
      "cell_type": "code",
      "execution_count": null,
      "id": "9be10901",
      "metadata": {
        "colab": {
          "base_uri": "https://localhost:8080/"
        },
        "id": "9be10901",
        "outputId": "bb1848a5-d2e8-4d82-b6ab-532d0c38784d"
      },
      "outputs": [
        {
          "output_type": "stream",
          "name": "stderr",
          "text": [
            "[nltk_data] Downloading package stopwords to /root/nltk_data...\n",
            "[nltk_data]   Unzipping corpora/stopwords.zip.\n"
          ]
        }
      ],
      "source": [
        "stop_words = set(stopwords.words('english'))\n",
        "\n",
        "def preprocess_text(text):\n",
        "    # Convert to lowercase\n",
        "    text = text.lower()\n",
        "\n",
        "    # Remove special characters and numbers\n",
        "    text = re.sub(r'[^a-z\\s]', '', text)\n",
        "\n",
        "    # Tokenization\n",
        "    tokens = word_tokenize(text)\n",
        "    # Remove stop words\n",
        "    tokens = [token for token in tokens if token not in stop_words]\n",
        "\n",
        "    # Lemmatization\n",
        "    lemmatizer = WordNetLemmatizer()\n",
        "    tokens = [lemmatizer.lemmatize(token) for token in tokens]\n",
        "\n",
        "    return ' '.join(tokens)"
      ]
    },
    {
      "cell_type": "markdown",
      "source": [
        "Preprocessing data"
      ],
      "metadata": {
        "id": "7jjhJzgf7nIo"
      },
      "id": "7jjhJzgf7nIo"
    },
    {
      "cell_type": "code",
      "execution_count": null,
      "id": "7c7f9a63",
      "metadata": {
        "id": "7c7f9a63"
      },
      "outputs": [],
      "source": [
        "df_cleaned = df.copy()\n",
        "df_cleaned['message'] = [preprocess_text(df_cleaned['message'][i]) for i in range(len(df_cleaned))]"
      ]
    },
    {
      "cell_type": "code",
      "execution_count": null,
      "id": "897e7893",
      "metadata": {
        "colab": {
          "base_uri": "https://localhost:8080/",
          "height": 206
        },
        "id": "897e7893",
        "outputId": "329c2d08-939b-44fa-da14-5d59b35920f4"
      },
      "outputs": [
        {
          "output_type": "execute_result",
          "data": {
            "text/plain": [
              "   label                                            message\n",
              "0      0  go jurong point crazy available bugis n great ...\n",
              "1      0                            ok lar joking wif u oni\n",
              "2      1  free entry wkly comp win fa cup final tkts st ...\n",
              "3      0                u dun say early hor u c already say\n",
              "4      0           nah dont think go usf life around though"
            ],
            "text/html": [
              "\n",
              "  <div id=\"df-82d7ea66-b464-459d-a3fa-23d2d290e317\" class=\"colab-df-container\">\n",
              "    <div>\n",
              "<style scoped>\n",
              "    .dataframe tbody tr th:only-of-type {\n",
              "        vertical-align: middle;\n",
              "    }\n",
              "\n",
              "    .dataframe tbody tr th {\n",
              "        vertical-align: top;\n",
              "    }\n",
              "\n",
              "    .dataframe thead th {\n",
              "        text-align: right;\n",
              "    }\n",
              "</style>\n",
              "<table border=\"1\" class=\"dataframe\">\n",
              "  <thead>\n",
              "    <tr style=\"text-align: right;\">\n",
              "      <th></th>\n",
              "      <th>label</th>\n",
              "      <th>message</th>\n",
              "    </tr>\n",
              "  </thead>\n",
              "  <tbody>\n",
              "    <tr>\n",
              "      <th>0</th>\n",
              "      <td>0</td>\n",
              "      <td>go jurong point crazy available bugis n great ...</td>\n",
              "    </tr>\n",
              "    <tr>\n",
              "      <th>1</th>\n",
              "      <td>0</td>\n",
              "      <td>ok lar joking wif u oni</td>\n",
              "    </tr>\n",
              "    <tr>\n",
              "      <th>2</th>\n",
              "      <td>1</td>\n",
              "      <td>free entry wkly comp win fa cup final tkts st ...</td>\n",
              "    </tr>\n",
              "    <tr>\n",
              "      <th>3</th>\n",
              "      <td>0</td>\n",
              "      <td>u dun say early hor u c already say</td>\n",
              "    </tr>\n",
              "    <tr>\n",
              "      <th>4</th>\n",
              "      <td>0</td>\n",
              "      <td>nah dont think go usf life around though</td>\n",
              "    </tr>\n",
              "  </tbody>\n",
              "</table>\n",
              "</div>\n",
              "    <div class=\"colab-df-buttons\">\n",
              "\n",
              "  <div class=\"colab-df-container\">\n",
              "    <button class=\"colab-df-convert\" onclick=\"convertToInteractive('df-82d7ea66-b464-459d-a3fa-23d2d290e317')\"\n",
              "            title=\"Convert this dataframe to an interactive table.\"\n",
              "            style=\"display:none;\">\n",
              "\n",
              "  <svg xmlns=\"http://www.w3.org/2000/svg\" height=\"24px\" viewBox=\"0 -960 960 960\">\n",
              "    <path d=\"M120-120v-720h720v720H120Zm60-500h600v-160H180v160Zm220 220h160v-160H400v160Zm0 220h160v-160H400v160ZM180-400h160v-160H180v160Zm440 0h160v-160H620v160ZM180-180h160v-160H180v160Zm440 0h160v-160H620v160Z\"/>\n",
              "  </svg>\n",
              "    </button>\n",
              "\n",
              "  <style>\n",
              "    .colab-df-container {\n",
              "      display:flex;\n",
              "      gap: 12px;\n",
              "    }\n",
              "\n",
              "    .colab-df-convert {\n",
              "      background-color: #E8F0FE;\n",
              "      border: none;\n",
              "      border-radius: 50%;\n",
              "      cursor: pointer;\n",
              "      display: none;\n",
              "      fill: #1967D2;\n",
              "      height: 32px;\n",
              "      padding: 0 0 0 0;\n",
              "      width: 32px;\n",
              "    }\n",
              "\n",
              "    .colab-df-convert:hover {\n",
              "      background-color: #E2EBFA;\n",
              "      box-shadow: 0px 1px 2px rgba(60, 64, 67, 0.3), 0px 1px 3px 1px rgba(60, 64, 67, 0.15);\n",
              "      fill: #174EA6;\n",
              "    }\n",
              "\n",
              "    .colab-df-buttons div {\n",
              "      margin-bottom: 4px;\n",
              "    }\n",
              "\n",
              "    [theme=dark] .colab-df-convert {\n",
              "      background-color: #3B4455;\n",
              "      fill: #D2E3FC;\n",
              "    }\n",
              "\n",
              "    [theme=dark] .colab-df-convert:hover {\n",
              "      background-color: #434B5C;\n",
              "      box-shadow: 0px 1px 3px 1px rgba(0, 0, 0, 0.15);\n",
              "      filter: drop-shadow(0px 1px 2px rgba(0, 0, 0, 0.3));\n",
              "      fill: #FFFFFF;\n",
              "    }\n",
              "  </style>\n",
              "\n",
              "    <script>\n",
              "      const buttonEl =\n",
              "        document.querySelector('#df-82d7ea66-b464-459d-a3fa-23d2d290e317 button.colab-df-convert');\n",
              "      buttonEl.style.display =\n",
              "        google.colab.kernel.accessAllowed ? 'block' : 'none';\n",
              "\n",
              "      async function convertToInteractive(key) {\n",
              "        const element = document.querySelector('#df-82d7ea66-b464-459d-a3fa-23d2d290e317');\n",
              "        const dataTable =\n",
              "          await google.colab.kernel.invokeFunction('convertToInteractive',\n",
              "                                                    [key], {});\n",
              "        if (!dataTable) return;\n",
              "\n",
              "        const docLinkHtml = 'Like what you see? Visit the ' +\n",
              "          '<a target=\"_blank\" href=https://colab.research.google.com/notebooks/data_table.ipynb>data table notebook</a>'\n",
              "          + ' to learn more about interactive tables.';\n",
              "        element.innerHTML = '';\n",
              "        dataTable['output_type'] = 'display_data';\n",
              "        await google.colab.output.renderOutput(dataTable, element);\n",
              "        const docLink = document.createElement('div');\n",
              "        docLink.innerHTML = docLinkHtml;\n",
              "        element.appendChild(docLink);\n",
              "      }\n",
              "    </script>\n",
              "  </div>\n",
              "\n",
              "\n",
              "<div id=\"df-348c0f5e-c7c4-4497-8d31-2d4658f07a8f\">\n",
              "  <button class=\"colab-df-quickchart\" onclick=\"quickchart('df-348c0f5e-c7c4-4497-8d31-2d4658f07a8f')\"\n",
              "            title=\"Suggest charts\"\n",
              "            style=\"display:none;\">\n",
              "\n",
              "<svg xmlns=\"http://www.w3.org/2000/svg\" height=\"24px\"viewBox=\"0 0 24 24\"\n",
              "     width=\"24px\">\n",
              "    <g>\n",
              "        <path d=\"M19 3H5c-1.1 0-2 .9-2 2v14c0 1.1.9 2 2 2h14c1.1 0 2-.9 2-2V5c0-1.1-.9-2-2-2zM9 17H7v-7h2v7zm4 0h-2V7h2v10zm4 0h-2v-4h2v4z\"/>\n",
              "    </g>\n",
              "</svg>\n",
              "  </button>\n",
              "\n",
              "<style>\n",
              "  .colab-df-quickchart {\n",
              "      --bg-color: #E8F0FE;\n",
              "      --fill-color: #1967D2;\n",
              "      --hover-bg-color: #E2EBFA;\n",
              "      --hover-fill-color: #174EA6;\n",
              "      --disabled-fill-color: #AAA;\n",
              "      --disabled-bg-color: #DDD;\n",
              "  }\n",
              "\n",
              "  [theme=dark] .colab-df-quickchart {\n",
              "      --bg-color: #3B4455;\n",
              "      --fill-color: #D2E3FC;\n",
              "      --hover-bg-color: #434B5C;\n",
              "      --hover-fill-color: #FFFFFF;\n",
              "      --disabled-bg-color: #3B4455;\n",
              "      --disabled-fill-color: #666;\n",
              "  }\n",
              "\n",
              "  .colab-df-quickchart {\n",
              "    background-color: var(--bg-color);\n",
              "    border: none;\n",
              "    border-radius: 50%;\n",
              "    cursor: pointer;\n",
              "    display: none;\n",
              "    fill: var(--fill-color);\n",
              "    height: 32px;\n",
              "    padding: 0;\n",
              "    width: 32px;\n",
              "  }\n",
              "\n",
              "  .colab-df-quickchart:hover {\n",
              "    background-color: var(--hover-bg-color);\n",
              "    box-shadow: 0 1px 2px rgba(60, 64, 67, 0.3), 0 1px 3px 1px rgba(60, 64, 67, 0.15);\n",
              "    fill: var(--button-hover-fill-color);\n",
              "  }\n",
              "\n",
              "  .colab-df-quickchart-complete:disabled,\n",
              "  .colab-df-quickchart-complete:disabled:hover {\n",
              "    background-color: var(--disabled-bg-color);\n",
              "    fill: var(--disabled-fill-color);\n",
              "    box-shadow: none;\n",
              "  }\n",
              "\n",
              "  .colab-df-spinner {\n",
              "    border: 2px solid var(--fill-color);\n",
              "    border-color: transparent;\n",
              "    border-bottom-color: var(--fill-color);\n",
              "    animation:\n",
              "      spin 1s steps(1) infinite;\n",
              "  }\n",
              "\n",
              "  @keyframes spin {\n",
              "    0% {\n",
              "      border-color: transparent;\n",
              "      border-bottom-color: var(--fill-color);\n",
              "      border-left-color: var(--fill-color);\n",
              "    }\n",
              "    20% {\n",
              "      border-color: transparent;\n",
              "      border-left-color: var(--fill-color);\n",
              "      border-top-color: var(--fill-color);\n",
              "    }\n",
              "    30% {\n",
              "      border-color: transparent;\n",
              "      border-left-color: var(--fill-color);\n",
              "      border-top-color: var(--fill-color);\n",
              "      border-right-color: var(--fill-color);\n",
              "    }\n",
              "    40% {\n",
              "      border-color: transparent;\n",
              "      border-right-color: var(--fill-color);\n",
              "      border-top-color: var(--fill-color);\n",
              "    }\n",
              "    60% {\n",
              "      border-color: transparent;\n",
              "      border-right-color: var(--fill-color);\n",
              "    }\n",
              "    80% {\n",
              "      border-color: transparent;\n",
              "      border-right-color: var(--fill-color);\n",
              "      border-bottom-color: var(--fill-color);\n",
              "    }\n",
              "    90% {\n",
              "      border-color: transparent;\n",
              "      border-bottom-color: var(--fill-color);\n",
              "    }\n",
              "  }\n",
              "</style>\n",
              "\n",
              "  <script>\n",
              "    async function quickchart(key) {\n",
              "      const quickchartButtonEl =\n",
              "        document.querySelector('#' + key + ' button');\n",
              "      quickchartButtonEl.disabled = true;  // To prevent multiple clicks.\n",
              "      quickchartButtonEl.classList.add('colab-df-spinner');\n",
              "      try {\n",
              "        const charts = await google.colab.kernel.invokeFunction(\n",
              "            'suggestCharts', [key], {});\n",
              "      } catch (error) {\n",
              "        console.error('Error during call to suggestCharts:', error);\n",
              "      }\n",
              "      quickchartButtonEl.classList.remove('colab-df-spinner');\n",
              "      quickchartButtonEl.classList.add('colab-df-quickchart-complete');\n",
              "    }\n",
              "    (() => {\n",
              "      let quickchartButtonEl =\n",
              "        document.querySelector('#df-348c0f5e-c7c4-4497-8d31-2d4658f07a8f button');\n",
              "      quickchartButtonEl.style.display =\n",
              "        google.colab.kernel.accessAllowed ? 'block' : 'none';\n",
              "    })();\n",
              "  </script>\n",
              "</div>\n",
              "\n",
              "    </div>\n",
              "  </div>\n"
            ],
            "application/vnd.google.colaboratory.intrinsic+json": {
              "type": "dataframe",
              "variable_name": "df_cleaned",
              "summary": "{\n  \"name\": \"df_cleaned\",\n  \"rows\": 5169,\n  \"fields\": [\n    {\n      \"column\": \"label\",\n      \"properties\": {\n        \"dtype\": \"number\",\n        \"std\": 0,\n        \"min\": 0,\n        \"max\": 1,\n        \"num_unique_values\": 2,\n        \"samples\": [\n          1,\n          0\n        ],\n        \"semantic_type\": \"\",\n        \"description\": \"\"\n      }\n    },\n    {\n      \"column\": \"message\",\n      \"properties\": {\n        \"dtype\": \"string\",\n        \"num_unique_values\": 5069,\n        \"samples\": [\n          \"black shirt n blue jean thk c\",\n          \"apart one told yesterday\"\n        ],\n        \"semantic_type\": \"\",\n        \"description\": \"\"\n      }\n    }\n  ]\n}"
            }
          },
          "metadata": {},
          "execution_count": 16
        }
      ],
      "source": [
        "df_cleaned.head()"
      ]
    },
    {
      "cell_type": "markdown",
      "source": [
        "Checking for class imbalance"
      ],
      "metadata": {
        "id": "T9u6TS_u7ptU"
      },
      "id": "T9u6TS_u7ptU"
    },
    {
      "cell_type": "code",
      "execution_count": null,
      "id": "95e5ddd8",
      "metadata": {
        "colab": {
          "base_uri": "https://localhost:8080/",
          "height": 484
        },
        "id": "95e5ddd8",
        "outputId": "53c0d7f7-ead1-4afd-cdcc-02dfe9ce17bc"
      },
      "outputs": [
        {
          "output_type": "stream",
          "name": "stdout",
          "text": [
            "label\n",
            "0    4516\n",
            "1     653\n",
            "Name: count, dtype: int64\n"
          ]
        },
        {
          "output_type": "display_data",
          "data": {
            "text/plain": [
              "<Figure size 600x400 with 1 Axes>"
            ],
            "image/png": "[encoded data removed]"
          },
          "metadata": {}
        }
      ],
      "source": [
        "# Check for class imbalance\n",
        "label_counts = df_cleaned['label'].value_counts()\n",
        "print(label_counts)\n",
        "# Plot the class distribution\n",
        "plt.figure(figsize=(6,4))\n",
        "sns.barplot(x=label_counts.index, y=label_counts.values, palette='viridis')\n",
        "\n",
        "# Set plot labels and title\n",
        "plt.title('Class Distribution (Spam vs Ham)', fontsize=14)\n",
        "plt.xlabel('Class (0: Ham, 1: Spam)', fontsize=12)\n",
        "plt.ylabel('Number of Messages', fontsize=12)\n",
        "\n",
        "# Show the plot\n",
        "plt.show()"
      ]
    },
    {
      "cell_type": "markdown",
      "source": [
        "Splitting dataset into train and test"
      ],
      "metadata": {
        "id": "qPpcPCho71pD"
      },
      "id": "qPpcPCho71pD"
    },
    {
      "cell_type": "code",
      "source": [
        "# Split the data\n",
        "X_train, X_test, y_train, y_test = train_test_split(df_cleaned['message'], df_cleaned['label'], test_size=0.2, random_state=42, stratify=df_cleaned['label'])"
      ],
      "metadata": {
        "id": "GWKzbBGx47xP"
      },
      "id": "GWKzbBGx47xP",
      "execution_count": null,
      "outputs": []
    },
    {
      "cell_type": "markdown",
      "source": [
        "Further splitting dataset into train and validation"
      ],
      "metadata": {
        "id": "2X1rzjWb8KZv"
      },
      "id": "2X1rzjWb8KZv"
    },
    {
      "cell_type": "code",
      "source": [
        "# Split the data\n",
        "X_train, X_valid, y_train, y_valid = train_test_split(X_train, y_train, test_size=0.2, random_state=42, stratify=y_train)"
      ],
      "metadata": {
        "id": "HIvAPlys8PWD"
      },
      "id": "HIvAPlys8PWD",
      "execution_count": null,
      "outputs": []
    },
    {
      "cell_type": "markdown",
      "source": [
        "#Functions to train and evaluate models"
      ],
      "metadata": {
        "id": "F32sITMN7ypE"
      },
      "id": "F32sITMN7ypE"
    },
    {
      "cell_type": "code",
      "source": [
        "def compute_performance(y_true, y_pred):\n",
        "    # Calculate accuracy\n",
        "    accuracy = accuracy_score(y_true, y_pred)\n",
        "\n",
        "    # Calculate recall (macro)\n",
        "    recall_macro = recall_score(y_true, y_pred, average='macro')\n",
        "\n",
        "    # Calculate precision (macro)\n",
        "    precision_macro = precision_score(y_true, y_pred, average='macro')\n",
        "\n",
        "    # Calculate F1 score (macro)\n",
        "    score = f1_score(y_true, y_pred, average='macro')\n",
        "\n",
        "    # Calculate confusion matrix\n",
        "    conf_matrix = confusion_matrix(y_true, y_pred)\n",
        "\n",
        "    # Print results\n",
        "    print(\"Accuracy:\", accuracy)\n",
        "    print(\"Recall (macro):\", recall_macro)\n",
        "    print(\"Precision (macro):\", precision_macro)\n",
        "    print(\"F1 (macro):\", score)\n",
        "    # Plot confusion matrix\n",
        "    plt.figure(figsize=(8, 6))\n",
        "    sns.heatmap(conf_matrix, annot=True, cmap=\"Blues\", fmt=\"d\", cbar=False)\n",
        "    plt.title(\"Confusion Matrix\")\n",
        "    plt.xlabel(\"Predicted Labels\")\n",
        "    plt.ylabel(\"True Labels\")\n",
        "    plt.show()\n",
        "    return score\n",
        "\n",
        "def evaluate_model(pipeline, X_test,y_test):\n",
        "  # Make predictions on the test set\n",
        "  y_pred = pipeline.predict(X_test)\n",
        "  compute_performance(y_test, y_pred)\n",
        "\n",
        "def grid_search(pipeline,X_train = X_train,y_train = y_train,param_grid = {}):\n",
        "  stratified_cv = StratifiedKFold(n_splits=5)\n",
        "  # Initialize GridSearchCV\n",
        "  grid_search = GridSearchCV(pipeline, param_grid, cv=stratified_cv, scoring='f1_macro', verbose=2,error_score='raise')\n",
        "  grid_search.fit(X_train, y_train)\n",
        "  # Best parameters\n",
        "  print(\"Best parameters found: \", grid_search.best_params_)\n",
        "  return grid_search.best_estimator_"
      ],
      "metadata": {
        "id": "Q2mu3zbc3MDi"
      },
      "id": "Q2mu3zbc3MDi",
      "execution_count": null,
      "outputs": []
    },
    {
      "cell_type": "markdown",
      "source": [
        "# Training ML models using Grid Search for parameters tunning"
      ],
      "metadata": {
        "id": "RbitaZQb8ciF"
      },
      "id": "RbitaZQb8ciF"
    },
    {
      "cell_type": "markdown",
      "source": [
        "Logistic Regression"
      ],
      "metadata": {
        "id": "KbWNFBbT_nZB"
      },
      "id": "KbWNFBbT_nZB"
    },
    {
      "cell_type": "code",
      "source": [
        "print(\"Logistic Regression\")\n",
        "print(\"Without SMOTE\")\n",
        "lr_model = Pipeline([('vect',TfidfVectorizer()),\n",
        "                    ('clf',LogisticRegression(class_weight='balanced'))])\n",
        "lr_model = grid_search(lr_model)\n",
        "evaluate_model(lr_model,X_valid,y_valid)\n",
        "\n",
        "print(\"With SMOTE\")\n",
        "tfidf_vectorizer = TfidfVectorizer()\n",
        "X_train_tfidf = tfidf_vectorizer.fit_transform(X_train)\n",
        "X_valid_tfidf = tfidf_vectorizer.transform(X_valid)\n",
        "\n",
        "smote = SMOTE()\n",
        "X_resampled, y_resampled = smote.fit_resample(X_train_tfidf, y_train)\n",
        "\n",
        "lr_model_smote = LogisticRegression()\n",
        "lr_model_smote = grid_search(lr_model_smote,X_resampled, y_resampled)\n",
        "\n",
        "evaluate_model(lr_model_smote,X_valid_tfidf,y_valid)"
      ],
      "metadata": {
        "colab": {
          "base_uri": "https://localhost:8080/",
          "height": 1000
        },
        "id": "8ooyCOq83WFy",
        "outputId": "764086ea-c0ac-43d7-adf4-b022169d4619"
      },
      "id": "8ooyCOq83WFy",
      "execution_count": null,
      "outputs": [
        {
          "output_type": "stream",
          "name": "stdout",
          "text": [
            "Logistic Regression\n",
            "Without SMOTE\n",
            "Fitting 5 folds for each of 1 candidates, totalling 5 fits\n",
            "[CV] END .................................................... total time=   0.1s\n",
            "[CV] END .................................................... total time=   0.1s\n",
            "[CV] END .................................................... total time=   0.1s\n",
            "[CV] END .................................................... total time=   0.1s\n",
            "[CV] END .................................................... total time=   0.1s\n",
            "Best parameters found:  {}\n",
            "Accuracy: 0.9649334945586457\n",
            "Recall (macro): 0.9140866049579742\n",
            "Precision (macro): 0.9246242806098792\n",
            "F1 (macro): 0.9192613913716776\n"
          ]
        },
        {
          "output_type": "display_data",
          "data": {
            "text/plain": [
              "<Figure size 800x600 with 1 Axes>"
            ],
            "image/png": "[encoded data removed]"
          },
          "metadata": {}
        },
        {
          "output_type": "stream",
          "name": "stdout",
          "text": [
            "With SMOTE\n",
            "Fitting 5 folds for each of 1 candidates, totalling 5 fits\n",
            "[CV] END .................................................... total time=   0.0s\n",
            "[CV] END .................................................... total time=   0.0s\n",
            "[CV] END .................................................... total time=   0.0s\n",
            "[CV] END .................................................... total time=   0.0s\n",
            "[CV] END .................................................... total time=   0.0s\n",
            "Best parameters found:  {}\n",
            "Accuracy: 0.9649334945586457\n",
            "Recall (macro): 0.9099704755825088\n",
            "Precision (macro): 0.9277181152181152\n",
            "F1 (macro): 0.918578320370188\n"
          ]
        },
        {
          "output_type": "display_data",
          "data": {
            "text/plain": [
              "<Figure size 800x600 with 1 Axes>"
            ],
            "image/png": "[encoded data removed]"
          },
          "metadata": {}
        }
      ]
    },
    {
      "cell_type": "markdown",
      "source": [
        "Multinomial Naive Bayes"
      ],
      "metadata": {
        "id": "IIL49c0sACOP"
      },
      "id": "IIL49c0sACOP"
    },
    {
      "cell_type": "code",
      "source": [
        "print(\"Multinomial Naive Bayes\")\n",
        "print(\"Without SMOTE\")\n",
        "nb_model = Pipeline([('vect',TfidfVectorizer()),\n",
        "                    ('clf',MultinomialNB())])\n",
        "param_grid = {\n",
        "    'clf__alpha': [0.1, 0.5, 1.0, 5.0, 10.0],\n",
        "    'clf__fit_prior': [True, False]\n",
        "}\n",
        "nb_model = grid_search(nb_model,param_grid=param_grid)\n",
        "evaluate_model(nb_model,X_valid,y_valid)\n",
        "\n",
        "print(\"With SMOTE\")\n",
        "tfidf_vectorizer = TfidfVectorizer()\n",
        "X_train_tfidf = tfidf_vectorizer.fit_transform(X_train)\n",
        "X_valid_tfidf = tfidf_vectorizer.transform(X_valid)\n",
        "\n",
        "smote = SMOTE()\n",
        "X_resampled, y_resampled = smote.fit_resample(X_train_tfidf, y_train)\n",
        "param_grid = {\n",
        "    'alpha': [0.1, 0.5, 1.0, 5.0, 10.0],\n",
        "    'fit_prior': [True, False]\n",
        "}\n",
        "nb_model_smote = MultinomialNB()\n",
        "nb_model_smote = grid_search(nb_model_smote,X_resampled, y_resampled, param_grid)\n",
        "\n",
        "evaluate_model(nb_model_smote,X_valid_tfidf,y_valid)\n"
      ],
      "metadata": {
        "colab": {
          "base_uri": "https://localhost:8080/",
          "height": 1000
        },
        "id": "2BVF0GZe9exF",
        "outputId": "06ee98c5-6bb4-465f-b6c4-84cab783228e"
      },
      "id": "2BVF0GZe9exF",
      "execution_count": null,
      "outputs": [
        {
          "output_type": "stream",
          "name": "stdout",
          "text": [
            "Multinomial Naive Bayes\n",
            "Without SMOTE\n",
            "Fitting 5 folds for each of 10 candidates, totalling 50 fits\n",
            "[CV] END ................clf__alpha=0.1, clf__fit_prior=True; total time=   0.1s\n",
            "[CV] END ................clf__alpha=0.1, clf__fit_prior=True; total time=   0.1s\n",
            "[CV] END ................clf__alpha=0.1, clf__fit_prior=True; total time=   0.1s\n",
            "[CV] END ................clf__alpha=0.1, clf__fit_prior=True; total time=   0.1s\n",
            "[CV] END ................clf__alpha=0.1, clf__fit_prior=True; total time=   0.1s\n",
            "[CV] END ...............clf__alpha=0.1, clf__fit_prior=False; total time=   0.1s\n",
            "[CV] END ...............clf__alpha=0.1, clf__fit_prior=False; total time=   0.1s\n",
            "[CV] END ...............clf__alpha=0.1, clf__fit_prior=False; total time=   0.1s\n",
            "[CV] END ...............clf__alpha=0.1, clf__fit_prior=False; total time=   0.1s\n",
            "[CV] END ...............clf__alpha=0.1, clf__fit_prior=False; total time=   0.1s\n",
            "[CV] END ................clf__alpha=0.5, clf__fit_prior=True; total time=   0.1s\n",
            "[CV] END ................clf__alpha=0.5, clf__fit_prior=True; total time=   0.1s\n",
            "[CV] END ................clf__alpha=0.5, clf__fit_prior=True; total time=   0.1s\n",
            "[CV] END ................clf__alpha=0.5, clf__fit_prior=True; total time=   0.1s\n",
            "[CV] END ................clf__alpha=0.5, clf__fit_prior=True; total time=   0.1s\n",
            "[CV] END ...............clf__alpha=0.5, clf__fit_prior=False; total time=   0.1s\n",
            "[CV] END ...............clf__alpha=0.5, clf__fit_prior=False; total time=   0.1s\n",
            "[CV] END ...............clf__alpha=0.5, clf__fit_prior=False; total time=   0.1s\n",
            "[CV] END ...............clf__alpha=0.5, clf__fit_prior=False; total time=   0.1s\n",
            "[CV] END ...............clf__alpha=0.5, clf__fit_prior=False; total time=   0.1s\n",
            "[CV] END ................clf__alpha=1.0, clf__fit_prior=True; total time=   0.1s\n",
            "[CV] END ................clf__alpha=1.0, clf__fit_prior=True; total time=   0.1s\n",
            "[CV] END ................clf__alpha=1.0, clf__fit_prior=True; total time=   0.0s\n",
            "[CV] END ................clf__alpha=1.0, clf__fit_prior=True; total time=   0.0s\n",
            "[CV] END ................clf__alpha=1.0, clf__fit_prior=True; total time=   0.1s\n",
            "[CV] END ...............clf__alpha=1.0, clf__fit_prior=False; total time=   0.1s\n",
            "[CV] END ...............clf__alpha=1.0, clf__fit_prior=False; total time=   0.1s\n",
            "[CV] END ...............clf__alpha=1.0, clf__fit_prior=False; total time=   0.1s\n",
            "[CV] END ...............clf__alpha=1.0, clf__fit_prior=False; total time=   0.1s\n",
            "[CV] END ...............clf__alpha=1.0, clf__fit_prior=False; total time=   0.1s\n",
            "[CV] END ................clf__alpha=5.0, clf__fit_prior=True; total time=   0.1s\n",
            "[CV] END ................clf__alpha=5.0, clf__fit_prior=True; total time=   0.1s\n",
            "[CV] END ................clf__alpha=5.0, clf__fit_prior=True; total time=   0.1s\n",
            "[CV] END ................clf__alpha=5.0, clf__fit_prior=True; total time=   0.1s\n",
            "[CV] END ................clf__alpha=5.0, clf__fit_prior=True; total time=   0.1s\n",
            "[CV] END ...............clf__alpha=5.0, clf__fit_prior=False; total time=   0.1s\n",
            "[CV] END ...............clf__alpha=5.0, clf__fit_prior=False; total time=   0.1s\n",
            "[CV] END ...............clf__alpha=5.0, clf__fit_prior=False; total time=   0.1s\n",
            "[CV] END ...............clf__alpha=5.0, clf__fit_prior=False; total time=   0.1s\n",
            "[CV] END ...............clf__alpha=5.0, clf__fit_prior=False; total time=   0.1s\n",
            "[CV] END ...............clf__alpha=10.0, clf__fit_prior=True; total time=   0.1s\n",
            "[CV] END ...............clf__alpha=10.0, clf__fit_prior=True; total time=   0.1s\n",
            "[CV] END ...............clf__alpha=10.0, clf__fit_prior=True; total time=   0.1s\n",
            "[CV] END ...............clf__alpha=10.0, clf__fit_prior=True; total time=   0.1s\n",
            "[CV] END ...............clf__alpha=10.0, clf__fit_prior=True; total time=   0.1s\n",
            "[CV] END ..............clf__alpha=10.0, clf__fit_prior=False; total time=   0.1s\n",
            "[CV] END ..............clf__alpha=10.0, clf__fit_prior=False; total time=   0.1s\n",
            "[CV] END ..............clf__alpha=10.0, clf__fit_prior=False; total time=   0.1s\n",
            "[CV] END ..............clf__alpha=10.0, clf__fit_prior=False; total time=   0.1s\n",
            "[CV] END ..............clf__alpha=10.0, clf__fit_prior=False; total time=   0.1s\n",
            "Best parameters found:  {'clf__alpha': 0.1, 'clf__fit_prior': True}\n",
            "Accuracy: 0.9721886336154776\n",
            "Recall (macro): 0.9017714650494734\n",
            "Precision (macro): 0.9692451071761417\n",
            "F1 (macro): 0.9319300154240909\n"
          ]
        },
        {
          "output_type": "display_data",
          "data": {
            "text/plain": [
              "<Figure size 800x600 with 1 Axes>"
            ],
            "image/png": "[encoded data removed]"
          },
          "metadata": {}
        },
        {
          "output_type": "stream",
          "name": "stdout",
          "text": [
            "With SMOTE\n",
            "Fitting 5 folds for each of 10 candidates, totalling 50 fits\n",
            "[CV] END ..........................alpha=0.1, fit_prior=True; total time=   0.0s\n",
            "[CV] END ..........................alpha=0.1, fit_prior=True; total time=   0.0s\n",
            "[CV] END ..........................alpha=0.1, fit_prior=True; total time=   0.0s\n",
            "[CV] END ..........................alpha=0.1, fit_prior=True; total time=   0.0s\n",
            "[CV] END ..........................alpha=0.1, fit_prior=True; total time=   0.0s\n",
            "[CV] END .........................alpha=0.1, fit_prior=False; total time=   0.0s\n",
            "[CV] END .........................alpha=0.1, fit_prior=False; total time=   0.0s\n",
            "[CV] END .........................alpha=0.1, fit_prior=False; total time=   0.0s\n",
            "[CV] END .........................alpha=0.1, fit_prior=False; total time=   0.0s\n",
            "[CV] END .........................alpha=0.1, fit_prior=False; total time=   0.0s\n",
            "[CV] END ..........................alpha=0.5, fit_prior=True; total time=   0.0s\n",
            "[CV] END ..........................alpha=0.5, fit_prior=True; total time=   0.0s\n",
            "[CV] END ..........................alpha=0.5, fit_prior=True; total time=   0.0s\n",
            "[CV] END ..........................alpha=0.5, fit_prior=True; total time=   0.0s\n",
            "[CV] END ..........................alpha=0.5, fit_prior=True; total time=   0.0s\n",
            "[CV] END .........................alpha=0.5, fit_prior=False; total time=   0.0s\n",
            "[CV] END .........................alpha=0.5, fit_prior=False; total time=   0.0s\n",
            "[CV] END .........................alpha=0.5, fit_prior=False; total time=   0.0s\n",
            "[CV] END .........................alpha=0.5, fit_prior=False; total time=   0.0s\n",
            "[CV] END .........................alpha=0.5, fit_prior=False; total time=   0.0s\n",
            "[CV] END ..........................alpha=1.0, fit_prior=True; total time=   0.0s\n",
            "[CV] END ..........................alpha=1.0, fit_prior=True; total time=   0.0s\n",
            "[CV] END ..........................alpha=1.0, fit_prior=True; total time=   0.0s\n",
            "[CV] END ..........................alpha=1.0, fit_prior=True; total time=   0.0s\n",
            "[CV] END ..........................alpha=1.0, fit_prior=True; total time=   0.0s\n",
            "[CV] END .........................alpha=1.0, fit_prior=False; total time=   0.0s\n",
            "[CV] END .........................alpha=1.0, fit_prior=False; total time=   0.0s\n",
            "[CV] END .........................alpha=1.0, fit_prior=False; total time=   0.0s\n",
            "[CV] END .........................alpha=1.0, fit_prior=False; total time=   0.0s\n",
            "[CV] END .........................alpha=1.0, fit_prior=False; total time=   0.0s\n",
            "[CV] END ..........................alpha=5.0, fit_prior=True; total time=   0.0s\n",
            "[CV] END ..........................alpha=5.0, fit_prior=True; total time=   0.0s\n",
            "[CV] END ..........................alpha=5.0, fit_prior=True; total time=   0.0s\n",
            "[CV] END ..........................alpha=5.0, fit_prior=True; total time=   0.0s\n",
            "[CV] END ..........................alpha=5.0, fit_prior=True; total time=   0.0s\n",
            "[CV] END .........................alpha=5.0, fit_prior=False; total time=   0.0s\n",
            "[CV] END .........................alpha=5.0, fit_prior=False; total time=   0.0s\n",
            "[CV] END .........................alpha=5.0, fit_prior=False; total time=   0.0s\n",
            "[CV] END .........................alpha=5.0, fit_prior=False; total time=   0.0s\n",
            "[CV] END .........................alpha=5.0, fit_prior=False; total time=   0.0s\n",
            "[CV] END .........................alpha=10.0, fit_prior=True; total time=   0.0s\n",
            "[CV] END .........................alpha=10.0, fit_prior=True; total time=   0.0s\n",
            "[CV] END .........................alpha=10.0, fit_prior=True; total time=   0.0s\n",
            "[CV] END .........................alpha=10.0, fit_prior=True; total time=   0.0s\n",
            "[CV] END .........................alpha=10.0, fit_prior=True; total time=   0.0s\n",
            "[CV] END ........................alpha=10.0, fit_prior=False; total time=   0.0s\n",
            "[CV] END ........................alpha=10.0, fit_prior=False; total time=   0.0s\n",
            "[CV] END ........................alpha=10.0, fit_prior=False; total time=   0.0s\n",
            "[CV] END ........................alpha=10.0, fit_prior=False; total time=   0.0s\n",
            "[CV] END ........................alpha=10.0, fit_prior=False; total time=   0.0s\n",
            "Best parameters found:  {'alpha': 0.1, 'fit_prior': True}\n",
            "Accuracy: 0.9613059250302297\n",
            "Recall (macro): 0.9078957867858283\n",
            "Precision (macro): 0.9147464503042596\n",
            "F1 (macro): 0.9112803733304725\n"
          ]
        },
        {
          "output_type": "display_data",
          "data": {
            "text/plain": [
              "<Figure size 800x600 with 1 Axes>"
            ],
            "image/png": "[encoded data removed]"
          },
          "metadata": {}
        }
      ]
    },
    {
      "cell_type": "markdown",
      "source": [
        "Random Forest Classifier"
      ],
      "metadata": {
        "id": "x3B6-hC9LChH"
      },
      "id": "x3B6-hC9LChH"
    },
    {
      "cell_type": "code",
      "source": [
        "rf_model = Pipeline([('vect',TfidfVectorizer()),\n",
        "                    ('clf',RandomForestClassifier(class_weight='balanced'))])\n",
        "param_grid = {\n",
        "    'clf__n_estimators': [50, 100,150],\n",
        "    'clf__max_depth': [None, 10, 20,30],\n",
        "}\n",
        "rf_model = grid_search(rf_model,param_grid=param_grid)\n",
        "evaluate_model(rf_model,X_valid,y_valid)\n",
        "\n",
        "print(\"With SMOTE\")\n",
        "tfidf_vectorizer = TfidfVectorizer()\n",
        "X_train_tfidf = tfidf_vectorizer.fit_transform(X_train)\n",
        "X_valid_tfidf = tfidf_vectorizer.transform(X_valid)\n",
        "\n",
        "smote = SMOTE()\n",
        "X_resampled, y_resampled = smote.fit_resample(X_train_tfidf, y_train)\n",
        "param_grid = {\n",
        "    'n_estimators': [50, 100,150],\n",
        "    'max_depth': [None, 10, 20,30]\n",
        "}\n",
        "rf_model_smote = RandomForestClassifier()\n",
        "rf_model_smote = grid_search(rf_model_smote,X_resampled, y_resampled, param_grid)\n",
        "\n",
        "evaluate_model(rf_model_smote,X_valid_tfidf,y_valid)"
      ],
      "metadata": {
        "colab": {
          "base_uri": "https://localhost:8080/",
          "height": 1000
        },
        "id": "URiWFf3p2W3d",
        "outputId": "ea4ab407-5939-4a14-82ed-f6592d763d8e"
      },
      "id": "URiWFf3p2W3d",
      "execution_count": null,
      "outputs": [
        {
          "output_type": "stream",
          "name": "stdout",
          "text": [
            "Fitting 5 folds for each of 12 candidates, totalling 60 fits\n",
            "[CV] END ..........clf__max_depth=None, clf__n_estimators=50; total time=   0.5s\n",
            "[CV] END ..........clf__max_depth=None, clf__n_estimators=50; total time=   0.5s\n",
            "[CV] END ..........clf__max_depth=None, clf__n_estimators=50; total time=   0.5s\n",
            "[CV] END ..........clf__max_depth=None, clf__n_estimators=50; total time=   0.5s\n",
            "[CV] END ..........clf__max_depth=None, clf__n_estimators=50; total time=   0.5s\n",
            "[CV] END .........clf__max_depth=None, clf__n_estimators=100; total time=   1.0s\n",
            "[CV] END .........clf__max_depth=None, clf__n_estimators=100; total time=   1.0s\n",
            "[CV] END .........clf__max_depth=None, clf__n_estimators=100; total time=   1.0s\n",
            "[CV] END .........clf__max_depth=None, clf__n_estimators=100; total time=   1.0s\n",
            "[CV] END .........clf__max_depth=None, clf__n_estimators=100; total time=   1.5s\n",
            "[CV] END .........clf__max_depth=None, clf__n_estimators=150; total time=   2.0s\n",
            "[CV] END .........clf__max_depth=None, clf__n_estimators=150; total time=   1.8s\n",
            "[CV] END .........clf__max_depth=None, clf__n_estimators=150; total time=   1.4s\n",
            "[CV] END .........clf__max_depth=None, clf__n_estimators=150; total time=   1.5s\n",
            "[CV] END .........clf__max_depth=None, clf__n_estimators=150; total time=   1.5s\n",
            "[CV] END ............clf__max_depth=10, clf__n_estimators=50; total time=   0.2s\n",
            "[CV] END ............clf__max_depth=10, clf__n_estimators=50; total time=   0.2s\n",
            "[CV] END ............clf__max_depth=10, clf__n_estimators=50; total time=   0.2s\n",
            "[CV] END ............clf__max_depth=10, clf__n_estimators=50; total time=   0.2s\n",
            "[CV] END ............clf__max_depth=10, clf__n_estimators=50; total time=   0.2s\n",
            "[CV] END ...........clf__max_depth=10, clf__n_estimators=100; total time=   0.4s\n",
            "[CV] END ...........clf__max_depth=10, clf__n_estimators=100; total time=   0.3s\n",
            "[CV] END ...........clf__max_depth=10, clf__n_estimators=100; total time=   0.3s\n",
            "[CV] END ...........clf__max_depth=10, clf__n_estimators=100; total time=   0.3s\n",
            "[CV] END ...........clf__max_depth=10, clf__n_estimators=100; total time=   0.3s\n",
            "[CV] END ...........clf__max_depth=10, clf__n_estimators=150; total time=   0.5s\n",
            "[CV] END ...........clf__max_depth=10, clf__n_estimators=150; total time=   0.5s\n",
            "[CV] END ...........clf__max_depth=10, clf__n_estimators=150; total time=   0.4s\n",
            "[CV] END ...........clf__max_depth=10, clf__n_estimators=150; total time=   0.4s\n",
            "[CV] END ...........clf__max_depth=10, clf__n_estimators=150; total time=   0.4s\n",
            "[CV] END ............clf__max_depth=20, clf__n_estimators=50; total time=   0.3s\n",
            "[CV] END ............clf__max_depth=20, clf__n_estimators=50; total time=   0.4s\n",
            "[CV] END ............clf__max_depth=20, clf__n_estimators=50; total time=   0.4s\n",
            "[CV] END ............clf__max_depth=20, clf__n_estimators=50; total time=   0.4s\n",
            "[CV] END ............clf__max_depth=20, clf__n_estimators=50; total time=   0.4s\n",
            "[CV] END ...........clf__max_depth=20, clf__n_estimators=100; total time=   0.7s\n",
            "[CV] END ...........clf__max_depth=20, clf__n_estimators=100; total time=   0.7s\n",
            "[CV] END ...........clf__max_depth=20, clf__n_estimators=100; total time=   1.1s\n",
            "[CV] END ...........clf__max_depth=20, clf__n_estimators=100; total time=   1.2s\n",
            "[CV] END ...........clf__max_depth=20, clf__n_estimators=100; total time=   0.9s\n",
            "[CV] END ...........clf__max_depth=20, clf__n_estimators=150; total time=   1.0s\n",
            "[CV] END ...........clf__max_depth=20, clf__n_estimators=150; total time=   1.0s\n",
            "[CV] END ...........clf__max_depth=20, clf__n_estimators=150; total time=   1.0s\n",
            "[CV] END ...........clf__max_depth=20, clf__n_estimators=150; total time=   1.0s\n",
            "[CV] END ...........clf__max_depth=20, clf__n_estimators=150; total time=   1.1s\n",
            "[CV] END ............clf__max_depth=30, clf__n_estimators=50; total time=   0.5s\n",
            "[CV] END ............clf__max_depth=30, clf__n_estimators=50; total time=   0.5s\n",
            "[CV] END ............clf__max_depth=30, clf__n_estimators=50; total time=   0.5s\n",
            "[CV] END ............clf__max_depth=30, clf__n_estimators=50; total time=   0.3s\n",
            "[CV] END ............clf__max_depth=30, clf__n_estimators=50; total time=   0.3s\n",
            "[CV] END ...........clf__max_depth=30, clf__n_estimators=100; total time=   0.8s\n",
            "[CV] END ...........clf__max_depth=30, clf__n_estimators=100; total time=   1.0s\n",
            "[CV] END ...........clf__max_depth=30, clf__n_estimators=100; total time=   1.5s\n",
            "[CV] END ...........clf__max_depth=30, clf__n_estimators=100; total time=   1.5s\n",
            "[CV] END ...........clf__max_depth=30, clf__n_estimators=100; total time=   1.6s\n",
            "[CV] END ...........clf__max_depth=30, clf__n_estimators=150; total time=   1.5s\n",
            "[CV] END ...........clf__max_depth=30, clf__n_estimators=150; total time=   0.8s\n",
            "[CV] END ...........clf__max_depth=30, clf__n_estimators=150; total time=   0.8s\n",
            "[CV] END ...........clf__max_depth=30, clf__n_estimators=150; total time=   0.9s\n",
            "[CV] END ...........clf__max_depth=30, clf__n_estimators=150; total time=   1.0s\n",
            "Best parameters found:  {'clf__max_depth': 30, 'clf__n_estimators': 100}\n",
            "Accuracy: 0.9576783555018138\n",
            "Recall (macro): 0.8481952867326311\n",
            "Precision (macro): 0.9533593073593074\n",
            "F1 (macro): 0.8914344011732361\n"
          ]
        },
        {
          "output_type": "display_data",
          "data": {
            "text/plain": [
              "<Figure size 800x600 with 1 Axes>"
            ],
            "image/png": "[encoded data removed]"
          },
          "metadata": {}
        },
        {
          "output_type": "stream",
          "name": "stdout",
          "text": [
            "With SMOTE\n",
            "Fitting 5 folds for each of 12 candidates, totalling 60 fits\n",
            "[CV] END ....................max_depth=None, n_estimators=50; total time=   1.1s\n",
            "[CV] END ....................max_depth=None, n_estimators=50; total time=   2.0s\n",
            "[CV] END ....................max_depth=None, n_estimators=50; total time=   4.0s\n",
            "[CV] END ....................max_depth=None, n_estimators=50; total time=   3.5s\n",
            "[CV] END ....................max_depth=None, n_estimators=50; total time=   2.1s\n",
            "[CV] END ...................max_depth=None, n_estimators=100; total time=   3.4s\n",
            "[CV] END ...................max_depth=None, n_estimators=100; total time=   4.4s\n",
            "[CV] END ...................max_depth=None, n_estimators=100; total time=   6.7s\n",
            "[CV] END ...................max_depth=None, n_estimators=100; total time=   6.5s\n",
            "[CV] END ...................max_depth=None, n_estimators=100; total time=   6.5s\n",
            "[CV] END ...................max_depth=None, n_estimators=150; total time=   4.7s\n",
            "[CV] END ...................max_depth=None, n_estimators=150; total time=   5.5s\n",
            "[CV] END ...................max_depth=None, n_estimators=150; total time=   8.1s\n",
            "[CV] END ...................max_depth=None, n_estimators=150; total time=   7.3s\n",
            "[CV] END ...................max_depth=None, n_estimators=150; total time=   8.1s\n",
            "[CV] END ......................max_depth=10, n_estimators=50; total time=   0.3s\n",
            "[CV] END ......................max_depth=10, n_estimators=50; total time=   0.3s\n",
            "[CV] END ......................max_depth=10, n_estimators=50; total time=   0.3s\n",
            "[CV] END ......................max_depth=10, n_estimators=50; total time=   0.3s\n",
            "[CV] END ......................max_depth=10, n_estimators=50; total time=   0.3s\n",
            "[CV] END .....................max_depth=10, n_estimators=100; total time=   0.6s\n",
            "[CV] END .....................max_depth=10, n_estimators=100; total time=   0.6s\n",
            "[CV] END .....................max_depth=10, n_estimators=100; total time=   0.6s\n",
            "[CV] END .....................max_depth=10, n_estimators=100; total time=   0.9s\n",
            "[CV] END .....................max_depth=10, n_estimators=100; total time=   1.0s\n",
            "[CV] END .....................max_depth=10, n_estimators=150; total time=   1.4s\n",
            "[CV] END .....................max_depth=10, n_estimators=150; total time=   1.2s\n",
            "[CV] END .....................max_depth=10, n_estimators=150; total time=   2.2s\n",
            "[CV] END .....................max_depth=10, n_estimators=150; total time=   2.1s\n",
            "[CV] END .....................max_depth=10, n_estimators=150; total time=   2.0s\n",
            "[CV] END ......................max_depth=20, n_estimators=50; total time=   0.8s\n",
            "[CV] END ......................max_depth=20, n_estimators=50; total time=   0.8s\n",
            "[CV] END ......................max_depth=20, n_estimators=50; total time=   0.8s\n",
            "[CV] END ......................max_depth=20, n_estimators=50; total time=   0.5s\n",
            "[CV] END ......................max_depth=20, n_estimators=50; total time=   1.4s\n",
            "[CV] END .....................max_depth=20, n_estimators=100; total time=   1.0s\n",
            "[CV] END .....................max_depth=20, n_estimators=100; total time=   1.0s\n",
            "[CV] END .....................max_depth=20, n_estimators=100; total time=   1.0s\n",
            "[CV] END .....................max_depth=20, n_estimators=100; total time=   1.0s\n",
            "[CV] END .....................max_depth=20, n_estimators=100; total time=   1.1s\n",
            "[CV] END .....................max_depth=20, n_estimators=150; total time=   2.3s\n",
            "[CV] END .....................max_depth=20, n_estimators=150; total time=   2.3s\n",
            "[CV] END .....................max_depth=20, n_estimators=150; total time=   1.5s\n",
            "[CV] END .....................max_depth=20, n_estimators=150; total time=   1.5s\n",
            "[CV] END .....................max_depth=20, n_estimators=150; total time=   1.5s\n",
            "[CV] END ......................max_depth=30, n_estimators=50; total time=   0.7s\n",
            "[CV] END ......................max_depth=30, n_estimators=50; total time=   0.7s\n",
            "[CV] END ......................max_depth=30, n_estimators=50; total time=   0.7s\n",
            "[CV] END ......................max_depth=30, n_estimators=50; total time=   0.7s\n",
            "[CV] END ......................max_depth=30, n_estimators=50; total time=   0.7s\n",
            "[CV] END .....................max_depth=30, n_estimators=100; total time=   1.3s\n",
            "[CV] END .....................max_depth=30, n_estimators=100; total time=   1.8s\n",
            "[CV] END .....................max_depth=30, n_estimators=100; total time=   2.1s\n",
            "[CV] END .....................max_depth=30, n_estimators=100; total time=   1.9s\n",
            "[CV] END .....................max_depth=30, n_estimators=100; total time=   1.4s\n",
            "[CV] END .....................max_depth=30, n_estimators=150; total time=   2.3s\n",
            "[CV] END .....................max_depth=30, n_estimators=150; total time=   2.2s\n",
            "[CV] END .....................max_depth=30, n_estimators=150; total time=   3.3s\n",
            "[CV] END .....................max_depth=30, n_estimators=150; total time=   9.5s\n",
            "[CV] END .....................max_depth=30, n_estimators=150; total time=   4.2s\n",
            "Best parameters found:  {'max_depth': None, 'n_estimators': 50}\n",
            "Accuracy: 0.9613059250302297\n",
            "Recall (macro): 0.8502699755293116\n",
            "Precision (macro): 0.9726589138939736\n",
            "F1 (macro): 0.8992722511494777\n"
          ]
        },
        {
          "output_type": "display_data",
          "data": {
            "text/plain": [
              "<Figure size 800x600 with 1 Axes>"
            ],
            "image/png": "[encoded data removed]"
          },
          "metadata": {}
        }
      ]
    },
    {
      "cell_type": "markdown",
      "source": [
        "# Evaluating on Test data"
      ],
      "metadata": {
        "id": "Z1O7LDew805J"
      },
      "id": "Z1O7LDew805J"
    },
    {
      "cell_type": "markdown",
      "source": [
        "Logistic Regression"
      ],
      "metadata": {
        "id": "vKMWlGX-9QPS"
      },
      "id": "vKMWlGX-9QPS"
    },
    {
      "cell_type": "code",
      "source": [
        "# Make predictions on the test set\n",
        "print(\"Logistic Regression - Without SMOTE\")\n",
        "y_pred = lr_model.predict(X_test)\n",
        "compute_performance(y_test, y_pred)\n",
        "print(\"Logistic Regression - With SMOTE\")\n",
        "X_test_tfidf = tfidf_vectorizer.transform(X_test)\n",
        "y_pred = lr_model_smote.predict(X_test_tfidf)\n",
        "compute_performance(y_test, y_pred)"
      ],
      "metadata": {
        "colab": {
          "base_uri": "https://localhost:8080/",
          "height": 1000
        },
        "id": "N4g_QvNC9I6B",
        "outputId": "093bb416-5067-4cfa-cac3-5aaa2d8ad6a5"
      },
      "id": "N4g_QvNC9I6B",
      "execution_count": null,
      "outputs": [
        {
          "output_type": "stream",
          "name": "stdout",
          "text": [
            "Logistic Regression - Without SMOTE\n",
            "Accuracy: 0.9709864603481625\n",
            "Recall (macro): 0.9344424437625218\n",
            "Precision (macro): 0.9344424437625218\n",
            "F1 (macro): 0.9344424437625218\n"
          ]
        },
        {
          "output_type": "display_data",
          "data": {
            "text/plain": [
              "<Figure size 800x600 with 1 Axes>"
            ],
            "image/png": "[encoded data removed]"
          },
          "metadata": {}
        },
        {
          "output_type": "stream",
          "name": "stdout",
          "text": [
            "Logistic Regression - With SMOTE\n",
            "Accuracy: 0.971953578336557\n",
            "Recall (macro): 0.931733069581463\n",
            "Precision (macro): 0.9403887279249448\n",
            "F1 (macro): 0.9359999658507121\n"
          ]
        },
        {
          "output_type": "display_data",
          "data": {
            "text/plain": [
              "<Figure size 800x600 with 1 Axes>"
            ],
            "image/png": "[encoded data removed]"
          },
          "metadata": {}
        },
        {
          "output_type": "execute_result",
          "data": {
            "text/plain": [
              "0.9359999658507121"
            ]
          },
          "metadata": {},
          "execution_count": 75
        }
      ]
    },
    {
      "cell_type": "markdown",
      "source": [
        "Multinomial Naive Bayes"
      ],
      "metadata": {
        "id": "n32-7W9g9Sx9"
      },
      "id": "n32-7W9g9Sx9"
    },
    {
      "cell_type": "code",
      "source": [
        "# Make predictions on the test set\n",
        "print(\"Multinomial Naive Bayes - Without SMOTE\")\n",
        "y_pred = nb_model.predict(X_test)\n",
        "compute_performance(y_test, y_pred)\n",
        "print(\"Multinomial Naive Bayes - With SMOTE\")\n",
        "X_test_tfidf = tfidf_vectorizer.transform(X_test)\n",
        "y_pred = nb_model_smote.predict(X_test_tfidf)\n",
        "compute_performance(y_test, y_pred)"
      ],
      "metadata": {
        "colab": {
          "base_uri": "https://localhost:8080/",
          "height": 1000
        },
        "id": "ha3pkc4P9B5r",
        "outputId": "30dfaa42-5448-40b4-d77b-dfca194a92cc"
      },
      "id": "ha3pkc4P9B5r",
      "execution_count": null,
      "outputs": [
        {
          "output_type": "stream",
          "name": "stdout",
          "text": [
            "Multinomial Naive Bayes - Without SMOTE\n",
            "Accuracy: 0.9796905222437138\n",
            "Recall (macro): 0.9296365803555577\n",
            "Precision (macro): 0.9772650439486139\n",
            "F1 (macro): 0.9517238159395447\n"
          ]
        },
        {
          "output_type": "display_data",
          "data": {
            "text/plain": [
              "<Figure size 800x600 with 1 Axes>"
            ],
            "image/png": "[encoded data removed]"
          },
          "metadata": {}
        },
        {
          "output_type": "stream",
          "name": "stdout",
          "text": [
            "Multinomial Naive Bayes - With SMOTE\n",
            "Accuracy: 0.965183752417795\n",
            "Recall (macro): 0.9278571005892149\n",
            "Precision (macro): 0.9170271495076834\n",
            "F1 (macro): 0.9223419258468035\n"
          ]
        },
        {
          "output_type": "display_data",
          "data": {
            "text/plain": [
              "<Figure size 800x600 with 1 Axes>"
            ],
            "image/png": "[encoded data removed]"
          },
          "metadata": {}
        },
        {
          "output_type": "execute_result",
          "data": {
            "text/plain": [
              "0.9223419258468035"
            ]
          },
          "metadata": {},
          "execution_count": 76
        }
      ]
    },
    {
      "cell_type": "markdown",
      "source": [
        "Random Forest Classifier"
      ],
      "metadata": {
        "id": "cwthtEhZ9VNY"
      },
      "id": "cwthtEhZ9VNY"
    },
    {
      "cell_type": "code",
      "source": [
        "# Make predictions on the test set\n",
        "print(\"Random Forest Classifier - Without SMOTE\")\n",
        "y_pred = rf_model.predict(X_test)\n",
        "compute_performance(y_test, y_pred)\n",
        "print(\"Random Forest Classifier - With SMOTE\")\n",
        "X_test_tfidf = tfidf_vectorizer.transform(X_test)\n",
        "y_pred = rf_model_smote.predict(X_test_tfidf)\n",
        "compute_performance(y_test, y_pred)"
      ],
      "metadata": {
        "colab": {
          "base_uri": "https://localhost:8080/",
          "height": 1000
        },
        "id": "toGeeQem829H",
        "outputId": "af53990d-cb4a-4eb6-e371-14c450f6b660"
      },
      "id": "toGeeQem829H",
      "execution_count": null,
      "outputs": [
        {
          "output_type": "stream",
          "name": "stdout",
          "text": [
            "Random Forest Classifier - Without SMOTE\n",
            "Accuracy: 0.9738878143133463\n",
            "Recall (macro): 0.9067358169967792\n",
            "Precision (macro): 0.9733766233766235\n",
            "F1 (macro): 0.9365942399280502\n"
          ]
        },
        {
          "output_type": "display_data",
          "data": {
            "text/plain": [
              "<Figure size 800x600 with 1 Axes>"
            ],
            "image/png": "[encoded data removed]"
          },
          "metadata": {}
        },
        {
          "output_type": "stream",
          "name": "stdout",
          "text": [
            "Random Forest Classifier - With SMOTE\n",
            "Accuracy: 0.9748549323017408\n",
            "Recall (macro): 0.9105526108899089\n",
            "Precision (macro): 0.9740271148721853\n",
            "F1 (macro): 0.9391616050980782\n"
          ]
        },
        {
          "output_type": "display_data",
          "data": {
            "text/plain": [
              "<Figure size 800x600 with 1 Axes>"
            ],
            "image/png": "[encoded data removed]"
          },
          "metadata": {}
        },
        {
          "output_type": "execute_result",
          "data": {
            "text/plain": [
              "0.9391616050980782"
            ]
          },
          "metadata": {},
          "execution_count": 77
        }
      ]
    },
    {
      "cell_type": "markdown",
      "source": [
        "# Saving Models"
      ],
      "metadata": {
        "id": "4C8qKeK5aj1E"
      },
      "id": "4C8qKeK5aj1E"
    },
    {
      "cell_type": "code",
      "source": [
        "import joblib\n",
        "lr_pipeline = Pipeline([('vect',tfidf_vectorizer),\n",
        "                    ('clf',lr_model_smote)])\n",
        "rf_pipeline = Pipeline([('vect',tfidf_vectorizer),\n",
        "                    ('clf',rf_model_smote)])\n",
        "joblib.dump(lr_pipeline, 'lr_model.pkl')\n",
        "joblib.dump(nb_model, 'nb_model.pkl')\n",
        "joblib.dump(rf_pipeline, 'rf_model.pkl')"
      ],
      "metadata": {
        "colab": {
          "base_uri": "https://localhost:8080/"
        },
        "id": "o10bxHDJDm3y",
        "outputId": "08ac4369-ae9b-4094-a8a4-d2340523c89f"
      },
      "id": "o10bxHDJDm3y",
      "execution_count": null,
      "outputs": [
        {
          "output_type": "execute_result",
          "data": {
            "text/plain": [
              "['rf_model.pkl']"
            ]
          },
          "metadata": {},
          "execution_count": 82
        }
      ]
    },
    {
      "cell_type": "code",
      "source": [],
      "metadata": {
        "id": "DDuwsdBvTPB0"
      },
      "id": "DDuwsdBvTPB0",
      "execution_count": null,
      "outputs": []
    }
  ],
  "metadata": {
    "kernelspec": {
      "display_name": "Python 3 (ipykernel)",
      "language": "python",
      "name": "python3"
    },
    "language_info": {
      "codemirror_mode": {
        "name": "ipython",
        "version": 3
      },
      "file_extension": ".py",
      "mimetype": "text/x-python",
      "name": "python",
      "nbconvert_exporter": "python",
      "pygments_lexer": "ipython3",
      "version": "3.11.5"
    },
    "colab": {
      "provenance": []
    }
  },
  "nbformat": 4,
  "nbformat_minor": 5
}